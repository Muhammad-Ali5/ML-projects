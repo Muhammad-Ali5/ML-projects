{
  "nbformat": 4,
  "nbformat_minor": 0,
  "metadata": {
    "colab": {
      "provenance": [],
      "gpuType": "T4"
    },
    "kernelspec": {
      "name": "python3",
      "display_name": "Python 3"
    },
    "language_info": {
      "name": "python"
    },
    "accelerator": "GPU"
  },
  "cells": [
    {
      "cell_type": "markdown",
      "source": [
        "# Task 1: Smart Ticket Validator"
      ],
      "metadata": {
        "id": "2EqOg0d_EkwN"
      }
    },
    {
      "cell_type": "code",
      "execution_count": 2,
      "metadata": {
        "id": "1RsCu92dWSF2",
        "colab": {
          "base_uri": "https://localhost:8080/"
        },
        "outputId": "0fdb143b-38ee-46a2-a29d-ad66bcdcc366"
      },
      "outputs": [
        {
          "output_type": "stream",
          "name": "stdout",
          "text": [
            "Enter your ticket ID: MT123456\n",
            "Ticket Accepted\n"
          ]
        }
      ],
      "source": [
        "# Task 1: Smart Ticket Validator\n",
        "# This program validates metro ticket IDs\n",
        "\n",
        "def validate_ticket():\n",
        "    # Get ticket ID from user\n",
        "    ticket_id = input(\"Enter your ticket ID: \")\n",
        "\n",
        "    # Check if ticket starts with \"MT\" and has exactly 8 characters total\n",
        "    if len(ticket_id) == 8 and ticket_id.startswith(\"MT\"):\n",
        "        # Check if the remaining 6 characters are digits\n",
        "        digits_part = ticket_id[2:]  # Get the part after \"MT\"\n",
        "\n",
        "        if digits_part.isdigit() and len(digits_part) == 6:\n",
        "            print(\"Ticket Accepted\")\n",
        "            return\n",
        "\n",
        "    # If any condition fails, ticket is invalid\n",
        "    print(\"Invalid Ticket\")\n",
        "\n",
        "# Run the validator\n",
        "validate_ticket()"
      ]
    },
    {
      "cell_type": "markdown",
      "source": [
        "# Task 2: Budget Calculator App"
      ],
      "metadata": {
        "id": "nOuQabTlFhg8"
      }
    },
    {
      "cell_type": "code",
      "source": [
        "# Task 2: Budget Calculator App\n",
        "# This program helps students manage their budget\n",
        "\n",
        "def budget_calculator():\n",
        "    print(\"=== Student Budget Calculator ===\")\n",
        "\n",
        "    # Get income input\n",
        "    income = float(input(\"Enter your monthly income: $\"))\n",
        "\n",
        "    # Get expense inputs\n",
        "    rent = float(input(\"Enter rent expense: $\"))\n",
        "    food = float(input(\"Enter food expense: $\"))\n",
        "    transport = float(input(\"Enter transport expense: $\"))\n",
        "\n",
        "    # Calculate total expenses and remaining balance\n",
        "    total_expenses = rent + food + transport\n",
        "    remaining_balance = income - total_expenses\n",
        "    savings_percentage = (remaining_balance / income) * 100\n",
        "\n",
        "    # Display results\n",
        "    print(f\"\\n=== Budget Summary ===\")\n",
        "    print(f\"Income: ${income:.2f}\")\n",
        "    print(f\"Total Expenses: ${total_expenses:.2f}\")\n",
        "    print(f\"Remaining Balance: ${remaining_balance:.2f}\")\n",
        "    print(f\"Savings Percentage: {savings_percentage:.1f}%\")\n",
        "\n",
        "    # Provide suggestions based on savings percentage\n",
        "    if savings_percentage > 25:\n",
        "        print(\"You're saving well! \")\n",
        "    elif savings_percentage < 10:\n",
        "        print(\"Try reducing expenses.\")\n",
        "    else:\n",
        "        print(\"You're doing okay with your budget.\")\n",
        "\n",
        "# Run the budget calculator\n",
        "budget_calculator()"
      ],
      "metadata": {
        "colab": {
          "base_uri": "https://localhost:8080/"
        },
        "id": "YjarJim5E3nX",
        "outputId": "3e749bf3-4d72-4202-9f53-711928c96c71"
      },
      "execution_count": 4,
      "outputs": [
        {
          "output_type": "stream",
          "name": "stdout",
          "text": [
            "=== Student Budget Calculator ===\n",
            "Enter your monthly income: $100\n",
            "Enter rent expense: $20\n",
            "Enter food expense: $10\n",
            "Enter transport expense: $15\n",
            "\n",
            "=== Budget Summary ===\n",
            "Income: $100.00\n",
            "Total Expenses: $45.00\n",
            "Remaining Balance: $55.00\n",
            "Savings Percentage: 55.0%\n",
            "You're saving well! 👍\n"
          ]
        }
      ]
    },
    {
      "cell_type": "markdown",
      "source": [
        "# Task 3: Fitness Tracker Steps Analyzer"
      ],
      "metadata": {
        "id": "87jIAtCNF0pD"
      }
    },
    {
      "cell_type": "code",
      "source": [
        "# Task 3: Fitness Tracker Steps Analyzer\n",
        "# This program analyzes weekly step data\n",
        "\n",
        "def fitness_tracker():\n",
        "    print(\"=== Weekly Fitness Tracker ===\")\n",
        "    print(\"Enter your daily steps for the past week:\")\n",
        "\n",
        "    days = [\"Monday\", \"Tuesday\", \"Wednesday\", \"Thursday\", \"Friday\", \"Saturday\", \"Sunday\"]\n",
        "    steps_list = []\n",
        "\n",
        "    # Get steps for each day using a loop\n",
        "    for day in days:\n",
        "        steps = int(input(f\"{day}: \"))\n",
        "        steps_list.append(steps)\n",
        "\n",
        "    # Calculate statistics\n",
        "    total_steps = sum(steps_list)\n",
        "    average_steps = total_steps / len(steps_list)\n",
        "\n",
        "    # Find day with maximum steps\n",
        "    max_steps = max(steps_list)\n",
        "    max_day_index = steps_list.index(max_steps)\n",
        "    max_day = days[max_day_index]\n",
        "\n",
        "    # Display results\n",
        "    print(f\"\\n=== Weekly Analysis ===\")\n",
        "    print(f\"Total steps: {total_steps:,}\")\n",
        "    print(f\"Average steps per day: {average_steps:,.0f}\")\n",
        "    print(f\"Day with most steps: {max_day} ({max_steps:,} steps)\")\n",
        "\n",
        "    # Display daily breakdown\n",
        "    print(\"\\n=== Daily Breakdown ===\")\n",
        "    for i in range(len(days)):\n",
        "        print(f\"{days[i]}: {steps_list[i]:,} steps\")\n",
        "\n",
        "# Run the fitness tracker\n",
        "fitness_tracker()"
      ],
      "metadata": {
        "colab": {
          "base_uri": "https://localhost:8080/"
        },
        "id": "3DwQ9ni4F1zT",
        "outputId": "9a18a166-d9f3-44aa-a0fc-7657e8458501"
      },
      "execution_count": 3,
      "outputs": [
        {
          "output_type": "stream",
          "name": "stdout",
          "text": [
            "=== Weekly Fitness Tracker ===\n",
            "Enter your daily steps for the past week:\n",
            "Monday: 200\n",
            "Tuesday: 300\n",
            "Wednesday: 333\n",
            "Thursday: 444\n",
            "Friday: 333\n",
            "Saturday: 444\n",
            "Sunday: 222\n",
            "\n",
            "=== Weekly Analysis ===\n",
            "Total steps: 2,276\n",
            "Average steps per day: 325\n",
            "Day with most steps: Thursday (444 steps)\n",
            "\n",
            "=== Daily Breakdown ===\n",
            "Monday: 200 steps\n",
            "Tuesday: 300 steps\n",
            "Wednesday: 333 steps\n",
            "Thursday: 444 steps\n",
            "Friday: 333 steps\n",
            "Saturday: 444 steps\n",
            "Sunday: 222 steps\n"
          ]
        }
      ]
    },
    {
      "cell_type": "code",
      "source": [],
      "metadata": {
        "id": "qUcAfuWbGKvs"
      },
      "execution_count": null,
      "outputs": []
    }
  ]
}