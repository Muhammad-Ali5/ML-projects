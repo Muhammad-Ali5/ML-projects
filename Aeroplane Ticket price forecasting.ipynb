{
 "cells": [
  {
   "cell_type": "markdown",
   "id": "6c7826f0-4e10-4d69-9ddf-ada97965bb7c",
   "metadata": {},
   "source": [
    "# Load Libraries \n"
   ]
  },
  {
   "cell_type": "code",
   "execution_count": 1,
   "id": "44e80be0-ea7e-4ab3-8b4e-52166cf385e4",
   "metadata": {},
   "outputs": [],
   "source": [
    "import pandas as pd  # For data handling\n",
    "import numpy as np  # For numerical computations\n",
    "import matplotlib.pyplot as plt  # For visualization\n",
    "import seaborn as sns  # For advanced visualizations\n",
    "\n",
    "from sklearn.model_selection import train_test_split, GridSearchCV  # For model training & hyperparameter tuning\n",
    "from sklearn.preprocessing import LabelEncoder, StandardScaler  # For data preprocessing\n",
    "from sklearn.ensemble import RandomForestRegressor  # Random Forest Model\n",
    "from xgboost import XGBRegressor  # XGBoost Model\n",
    "from sklearn.linear_model import LinearRegression  # Linear Regression Model\n",
    "from sklearn.metrics import mean_absolute_error, mean_squared_error, r2_score  # Model evaluation metrics"
   ]
  },
  {
   "cell_type": "markdown",
   "id": "ce8185c4-33bf-4c17-a569-501808b7bd6d",
   "metadata": {},
   "source": [
    "# Data collection"
   ]
  },
  {
   "cell_type": "code",
   "execution_count": 3,
   "id": "ad392816-3058-41ee-8cd9-c96e4947b5b4",
   "metadata": {},
   "outputs": [],
   "source": [
    "airfare_dataset = pd.read_csv(\"cleaned_data.csv\")"
   ]
  },
  {
   "cell_type": "code",
   "execution_count": 5,
   "id": "bdff3662-8364-40dc-8856-cc393e6e2fc8",
   "metadata": {},
   "outputs": [
    {
     "data": {
      "text/html": [
       "<div>\n",
       "<style scoped>\n",
       "    .dataframe tbody tr th:only-of-type {\n",
       "        vertical-align: middle;\n",
       "    }\n",
       "\n",
       "    .dataframe tbody tr th {\n",
       "        vertical-align: top;\n",
       "    }\n",
       "\n",
       "    .dataframe thead th {\n",
       "        text-align: right;\n",
       "    }\n",
       "</style>\n",
       "<table border=\"1\" class=\"dataframe\">\n",
       "  <thead>\n",
       "    <tr style=\"text-align: right;\">\n",
       "      <th></th>\n",
       "      <th>Unnamed: 0</th>\n",
       "      <th>airline</th>\n",
       "      <th>flight_code</th>\n",
       "      <th>source_city</th>\n",
       "      <th>time_taken</th>\n",
       "      <th>stop</th>\n",
       "      <th>destinate_city</th>\n",
       "      <th>price</th>\n",
       "      <th>Class</th>\n",
       "      <th>Days_Left</th>\n",
       "      <th>dep_time_category</th>\n",
       "      <th>arr_time_category</th>\n",
       "    </tr>\n",
       "  </thead>\n",
       "  <tbody>\n",
       "    <tr>\n",
       "      <th>0</th>\n",
       "      <td>0</td>\n",
       "      <td>SpiceJet</td>\n",
       "      <td>SG-8709</td>\n",
       "      <td>Delhi</td>\n",
       "      <td>130</td>\n",
       "      <td>non-stop</td>\n",
       "      <td>Mumbai</td>\n",
       "      <td>5953</td>\n",
       "      <td>Economy</td>\n",
       "      <td>1</td>\n",
       "      <td>Evening</td>\n",
       "      <td>Night</td>\n",
       "    </tr>\n",
       "    <tr>\n",
       "      <th>1</th>\n",
       "      <td>1</td>\n",
       "      <td>SpiceJet</td>\n",
       "      <td>SG-8157</td>\n",
       "      <td>Delhi</td>\n",
       "      <td>140</td>\n",
       "      <td>non-stop</td>\n",
       "      <td>Mumbai</td>\n",
       "      <td>5953</td>\n",
       "      <td>Economy</td>\n",
       "      <td>1</td>\n",
       "      <td>Early Morning</td>\n",
       "      <td>Morning</td>\n",
       "    </tr>\n",
       "    <tr>\n",
       "      <th>2</th>\n",
       "      <td>2</td>\n",
       "      <td>AirAsia</td>\n",
       "      <td>I5-764</td>\n",
       "      <td>Delhi</td>\n",
       "      <td>130</td>\n",
       "      <td>non-stop</td>\n",
       "      <td>Mumbai</td>\n",
       "      <td>5956</td>\n",
       "      <td>Economy</td>\n",
       "      <td>1</td>\n",
       "      <td>Early Morning</td>\n",
       "      <td>Early Morning</td>\n",
       "    </tr>\n",
       "    <tr>\n",
       "      <th>3</th>\n",
       "      <td>3</td>\n",
       "      <td>Vistara</td>\n",
       "      <td>UK-995</td>\n",
       "      <td>Delhi</td>\n",
       "      <td>135</td>\n",
       "      <td>non-stop</td>\n",
       "      <td>Mumbai</td>\n",
       "      <td>5955</td>\n",
       "      <td>Economy</td>\n",
       "      <td>1</td>\n",
       "      <td>Morning</td>\n",
       "      <td>Afternoon</td>\n",
       "    </tr>\n",
       "    <tr>\n",
       "      <th>4</th>\n",
       "      <td>4</td>\n",
       "      <td>Vistara</td>\n",
       "      <td>UK-963</td>\n",
       "      <td>Delhi</td>\n",
       "      <td>140</td>\n",
       "      <td>non-stop</td>\n",
       "      <td>Mumbai</td>\n",
       "      <td>5955</td>\n",
       "      <td>Economy</td>\n",
       "      <td>1</td>\n",
       "      <td>Morning</td>\n",
       "      <td>Morning</td>\n",
       "    </tr>\n",
       "  </tbody>\n",
       "</table>\n",
       "</div>"
      ],
      "text/plain": [
       "   Unnamed: 0   airline flight_code source_city  time_taken      stop  \\\n",
       "0           0  SpiceJet     SG-8709       Delhi         130  non-stop   \n",
       "1           1  SpiceJet     SG-8157       Delhi         140  non-stop   \n",
       "2           2   AirAsia      I5-764       Delhi         130  non-stop   \n",
       "3           3   Vistara      UK-995       Delhi         135  non-stop   \n",
       "4           4   Vistara      UK-963       Delhi         140  non-stop   \n",
       "\n",
       "  destinate_city  price    Class  Days_Left dep_time_category  \\\n",
       "0         Mumbai   5953  Economy          1           Evening   \n",
       "1         Mumbai   5953  Economy          1     Early Morning   \n",
       "2         Mumbai   5956  Economy          1     Early Morning   \n",
       "3         Mumbai   5955  Economy          1           Morning   \n",
       "4         Mumbai   5955  Economy          1           Morning   \n",
       "\n",
       "  arr_time_category  \n",
       "0             Night  \n",
       "1           Morning  \n",
       "2     Early Morning  \n",
       "3         Afternoon  \n",
       "4           Morning  "
      ]
     },
     "execution_count": 5,
     "metadata": {},
     "output_type": "execute_result"
    }
   ],
   "source": [
    "airfare_dataset.head(5)"
   ]
  },
  {
   "cell_type": "code",
   "execution_count": 6,
   "id": "75d7dfc0-bfde-4652-9580-ab23ac565a55",
   "metadata": {},
   "outputs": [
    {
     "data": {
      "text/plain": [
       "(298926, 12)"
      ]
     },
     "execution_count": 6,
     "metadata": {},
     "output_type": "execute_result"
    }
   ],
   "source": [
    "airfare_dataset.shape"
   ]
  },
  {
   "cell_type": "markdown",
   "id": "24d373a4-da3b-4ced-81e9-b42547f1efd5",
   "metadata": {},
   "source": [
    "# Data Preprocessing & Feature Engineering"
   ]
  },
  {
   "cell_type": "code",
   "execution_count": 7,
   "id": "080d967e-68ba-497d-9630-d5fef03c9345",
   "metadata": {},
   "outputs": [],
   "source": [
    "# Drop unnecessary columns (index column and flight code)\n",
    "airfare_dataset.drop(columns=['Unnamed: 0', 'flight_code'], inplace=True)"
   ]
  },
  {
   "cell_type": "code",
   "execution_count": 9,
   "id": "5335c8f2-e684-433e-a45a-11ce12b2e46b",
   "metadata": {},
   "outputs": [
    {
     "data": {
      "text/plain": [
       "airline              0\n",
       "source_city          0\n",
       "time_taken           0\n",
       "stop                 0\n",
       "destinate_city       0\n",
       "price                0\n",
       "Class                0\n",
       "Days_Left            0\n",
       "dep_time_category    0\n",
       "arr_time_category    0\n",
       "dtype: int64"
      ]
     },
     "execution_count": 9,
     "metadata": {},
     "output_type": "execute_result"
    }
   ],
   "source": [
    "airfare_dataset.isnull().sum()"
   ]
  },
  {
   "cell_type": "code",
   "execution_count": 12,
   "id": "21e281a8-8808-4933-9d93-b2388f35d1e7",
   "metadata": {},
   "outputs": [
    {
     "name": "stdout",
     "output_type": "stream",
     "text": [
      "<class 'pandas.core.frame.DataFrame'>\n",
      "RangeIndex: 298926 entries, 0 to 298925\n",
      "Data columns (total 10 columns):\n",
      " #   Column             Non-Null Count   Dtype \n",
      "---  ------             --------------   ----- \n",
      " 0   airline            298926 non-null  object\n",
      " 1   source_city        298926 non-null  object\n",
      " 2   time_taken         298926 non-null  int64 \n",
      " 3   stop               298926 non-null  object\n",
      " 4   destinate_city     298926 non-null  object\n",
      " 5   price              298926 non-null  int64 \n",
      " 6   Class              298926 non-null  object\n",
      " 7   Days_Left          298926 non-null  int64 \n",
      " 8   dep_time_category  298926 non-null  object\n",
      " 9   arr_time_category  298926 non-null  object\n",
      "dtypes: int64(3), object(7)\n",
      "memory usage: 22.8+ MB\n"
     ]
    }
   ],
   "source": [
    "airfare_dataset.info()"
   ]
  },
  {
   "cell_type": "code",
   "execution_count": 15,
   "id": "b5eff2cb-83e8-4241-afb4-38742b7ff18b",
   "metadata": {},
   "outputs": [
    {
     "data": {
      "text/html": [
       "<div>\n",
       "<style scoped>\n",
       "    .dataframe tbody tr th:only-of-type {\n",
       "        vertical-align: middle;\n",
       "    }\n",
       "\n",
       "    .dataframe tbody tr th {\n",
       "        vertical-align: top;\n",
       "    }\n",
       "\n",
       "    .dataframe thead th {\n",
       "        text-align: right;\n",
       "    }\n",
       "</style>\n",
       "<table border=\"1\" class=\"dataframe\">\n",
       "  <thead>\n",
       "    <tr style=\"text-align: right;\">\n",
       "      <th></th>\n",
       "      <th>time_taken</th>\n",
       "      <th>price</th>\n",
       "      <th>Days_Left</th>\n",
       "    </tr>\n",
       "  </thead>\n",
       "  <tbody>\n",
       "    <tr>\n",
       "      <th>count</th>\n",
       "      <td>298926.000000</td>\n",
       "      <td>298926.000000</td>\n",
       "      <td>298926.000000</td>\n",
       "    </tr>\n",
       "    <tr>\n",
       "      <th>mean</th>\n",
       "      <td>724.486993</td>\n",
       "      <td>20884.235132</td>\n",
       "      <td>26.036661</td>\n",
       "    </tr>\n",
       "    <tr>\n",
       "      <th>std</th>\n",
       "      <td>420.109394</td>\n",
       "      <td>22675.125606</td>\n",
       "      <td>13.550043</td>\n",
       "    </tr>\n",
       "    <tr>\n",
       "      <th>min</th>\n",
       "      <td>50.000000</td>\n",
       "      <td>1105.000000</td>\n",
       "      <td>1.000000</td>\n",
       "    </tr>\n",
       "    <tr>\n",
       "      <th>25%</th>\n",
       "      <td>405.000000</td>\n",
       "      <td>4757.000000</td>\n",
       "      <td>15.000000</td>\n",
       "    </tr>\n",
       "    <tr>\n",
       "      <th>50%</th>\n",
       "      <td>670.000000</td>\n",
       "      <td>7424.000000</td>\n",
       "      <td>26.000000</td>\n",
       "    </tr>\n",
       "    <tr>\n",
       "      <th>75%</th>\n",
       "      <td>960.000000</td>\n",
       "      <td>42521.000000</td>\n",
       "      <td>38.000000</td>\n",
       "    </tr>\n",
       "    <tr>\n",
       "      <th>max</th>\n",
       "      <td>1815.000000</td>\n",
       "      <td>98972.000000</td>\n",
       "      <td>49.000000</td>\n",
       "    </tr>\n",
       "  </tbody>\n",
       "</table>\n",
       "</div>"
      ],
      "text/plain": [
       "          time_taken          price      Days_Left\n",
       "count  298926.000000  298926.000000  298926.000000\n",
       "mean      724.486993   20884.235132      26.036661\n",
       "std       420.109394   22675.125606      13.550043\n",
       "min        50.000000    1105.000000       1.000000\n",
       "25%       405.000000    4757.000000      15.000000\n",
       "50%       670.000000    7424.000000      26.000000\n",
       "75%       960.000000   42521.000000      38.000000\n",
       "max      1815.000000   98972.000000      49.000000"
      ]
     },
     "execution_count": 15,
     "metadata": {},
     "output_type": "execute_result"
    }
   ],
   "source": [
    "airfare_dataset.describe()"
   ]
  },
  {
   "cell_type": "code",
   "execution_count": 17,
   "id": "c0ebb37c-64bf-4410-8280-37cbeebe79df",
   "metadata": {},
   "outputs": [
    {
     "data": {
      "text/plain": [
       "list[Index(['airline', 'source_city', 'time_taken', 'stop', 'destinate_city',\n",
       "       'price', 'Class', 'Days_Left', 'dep_time_category',\n",
       "       'arr_time_category'],\n",
       "      dtype='object')]"
      ]
     },
     "execution_count": 17,
     "metadata": {},
     "output_type": "execute_result"
    }
   ],
   "source": [
    "list[airfare_dataset.columns]"
   ]
  },
  {
   "cell_type": "code",
   "execution_count": null,
   "id": "5baf5808-675a-4b57-bffb-49cdbc8a7257",
   "metadata": {},
   "outputs": [],
   "source": []
  },
  {
   "cell_type": "code",
   "execution_count": 13,
   "id": "8ba0d7b7-bd26-4446-b71d-5cb78a591624",
   "metadata": {},
   "outputs": [],
   "source": [
    "# splitting \n",
    "categorical_columns = airfare_dataset.select_dtypes(include=\"object\")\n",
    "numerical_columns = airfare_dataset.select_dtypes(include=\"int64\")"
   ]
  },
  {
   "cell_type": "code",
   "execution_count": 11,
   "id": "803007dd-19d3-48bc-bb16-09d5f924ec21",
   "metadata": {},
   "outputs": [
    {
     "data": {
      "text/html": [
       "<div>\n",
       "<style scoped>\n",
       "    .dataframe tbody tr th:only-of-type {\n",
       "        vertical-align: middle;\n",
       "    }\n",
       "\n",
       "    .dataframe tbody tr th {\n",
       "        vertical-align: top;\n",
       "    }\n",
       "\n",
       "    .dataframe thead th {\n",
       "        text-align: right;\n",
       "    }\n",
       "</style>\n",
       "<table border=\"1\" class=\"dataframe\">\n",
       "  <thead>\n",
       "    <tr style=\"text-align: right;\">\n",
       "      <th></th>\n",
       "      <th>airline</th>\n",
       "      <th>source_city</th>\n",
       "      <th>stop</th>\n",
       "      <th>destinate_city</th>\n",
       "      <th>Class</th>\n",
       "      <th>dep_time_category</th>\n",
       "      <th>arr_time_category</th>\n",
       "    </tr>\n",
       "  </thead>\n",
       "  <tbody>\n",
       "    <tr>\n",
       "      <th>0</th>\n",
       "      <td>SpiceJet</td>\n",
       "      <td>Delhi</td>\n",
       "      <td>non-stop</td>\n",
       "      <td>Mumbai</td>\n",
       "      <td>Economy</td>\n",
       "      <td>Evening</td>\n",
       "      <td>Night</td>\n",
       "    </tr>\n",
       "    <tr>\n",
       "      <th>1</th>\n",
       "      <td>SpiceJet</td>\n",
       "      <td>Delhi</td>\n",
       "      <td>non-stop</td>\n",
       "      <td>Mumbai</td>\n",
       "      <td>Economy</td>\n",
       "      <td>Early Morning</td>\n",
       "      <td>Morning</td>\n",
       "    </tr>\n",
       "    <tr>\n",
       "      <th>2</th>\n",
       "      <td>AirAsia</td>\n",
       "      <td>Delhi</td>\n",
       "      <td>non-stop</td>\n",
       "      <td>Mumbai</td>\n",
       "      <td>Economy</td>\n",
       "      <td>Early Morning</td>\n",
       "      <td>Early Morning</td>\n",
       "    </tr>\n",
       "    <tr>\n",
       "      <th>3</th>\n",
       "      <td>Vistara</td>\n",
       "      <td>Delhi</td>\n",
       "      <td>non-stop</td>\n",
       "      <td>Mumbai</td>\n",
       "      <td>Economy</td>\n",
       "      <td>Morning</td>\n",
       "      <td>Afternoon</td>\n",
       "    </tr>\n",
       "    <tr>\n",
       "      <th>4</th>\n",
       "      <td>Vistara</td>\n",
       "      <td>Delhi</td>\n",
       "      <td>non-stop</td>\n",
       "      <td>Mumbai</td>\n",
       "      <td>Economy</td>\n",
       "      <td>Morning</td>\n",
       "      <td>Morning</td>\n",
       "    </tr>\n",
       "    <tr>\n",
       "      <th>...</th>\n",
       "      <td>...</td>\n",
       "      <td>...</td>\n",
       "      <td>...</td>\n",
       "      <td>...</td>\n",
       "      <td>...</td>\n",
       "      <td>...</td>\n",
       "      <td>...</td>\n",
       "    </tr>\n",
       "    <tr>\n",
       "      <th>298921</th>\n",
       "      <td>Vistara</td>\n",
       "      <td>Chennai</td>\n",
       "      <td>1-stop</td>\n",
       "      <td>Hyderabad</td>\n",
       "      <td>Business</td>\n",
       "      <td>Morning</td>\n",
       "      <td>Evening</td>\n",
       "    </tr>\n",
       "    <tr>\n",
       "      <th>298922</th>\n",
       "      <td>Vistara</td>\n",
       "      <td>Chennai</td>\n",
       "      <td>1-stop</td>\n",
       "      <td>Hyderabad</td>\n",
       "      <td>Business</td>\n",
       "      <td>Afternoon</td>\n",
       "      <td>Night</td>\n",
       "    </tr>\n",
       "    <tr>\n",
       "      <th>298923</th>\n",
       "      <td>Vistara</td>\n",
       "      <td>Chennai</td>\n",
       "      <td>1-stop</td>\n",
       "      <td>Hyderabad</td>\n",
       "      <td>Business</td>\n",
       "      <td>Early Morning</td>\n",
       "      <td>Night</td>\n",
       "    </tr>\n",
       "    <tr>\n",
       "      <th>298924</th>\n",
       "      <td>Vistara</td>\n",
       "      <td>Chennai</td>\n",
       "      <td>1-stop</td>\n",
       "      <td>Hyderabad</td>\n",
       "      <td>Business</td>\n",
       "      <td>Early Morning</td>\n",
       "      <td>Evening</td>\n",
       "    </tr>\n",
       "    <tr>\n",
       "      <th>298925</th>\n",
       "      <td>Vistara</td>\n",
       "      <td>Chennai</td>\n",
       "      <td>1-stop</td>\n",
       "      <td>Hyderabad</td>\n",
       "      <td>Business</td>\n",
       "      <td>Morning</td>\n",
       "      <td>Evening</td>\n",
       "    </tr>\n",
       "  </tbody>\n",
       "</table>\n",
       "<p>298926 rows × 7 columns</p>\n",
       "</div>"
      ],
      "text/plain": [
       "         airline source_city      stop destinate_city     Class  \\\n",
       "0       SpiceJet       Delhi  non-stop         Mumbai   Economy   \n",
       "1       SpiceJet       Delhi  non-stop         Mumbai   Economy   \n",
       "2        AirAsia       Delhi  non-stop         Mumbai   Economy   \n",
       "3        Vistara       Delhi  non-stop         Mumbai   Economy   \n",
       "4        Vistara       Delhi  non-stop         Mumbai   Economy   \n",
       "...          ...         ...       ...            ...       ...   \n",
       "298921   Vistara     Chennai    1-stop      Hyderabad  Business   \n",
       "298922   Vistara     Chennai    1-stop      Hyderabad  Business   \n",
       "298923   Vistara     Chennai    1-stop      Hyderabad  Business   \n",
       "298924   Vistara     Chennai    1-stop      Hyderabad  Business   \n",
       "298925   Vistara     Chennai    1-stop      Hyderabad  Business   \n",
       "\n",
       "       dep_time_category arr_time_category  \n",
       "0                Evening             Night  \n",
       "1          Early Morning           Morning  \n",
       "2          Early Morning     Early Morning  \n",
       "3                Morning         Afternoon  \n",
       "4                Morning           Morning  \n",
       "...                  ...               ...  \n",
       "298921           Morning           Evening  \n",
       "298922         Afternoon             Night  \n",
       "298923     Early Morning             Night  \n",
       "298924     Early Morning           Evening  \n",
       "298925           Morning           Evening  \n",
       "\n",
       "[298926 rows x 7 columns]"
      ]
     },
     "execution_count": 11,
     "metadata": {},
     "output_type": "execute_result"
    }
   ],
   "source": [
    "categorical_columns"
   ]
  },
  {
   "cell_type": "code",
   "execution_count": 14,
   "id": "3ba99c85-2180-4eb8-816b-9797ac8f849f",
   "metadata": {},
   "outputs": [
    {
     "data": {
      "text/html": [
       "<div>\n",
       "<style scoped>\n",
       "    .dataframe tbody tr th:only-of-type {\n",
       "        vertical-align: middle;\n",
       "    }\n",
       "\n",
       "    .dataframe tbody tr th {\n",
       "        vertical-align: top;\n",
       "    }\n",
       "\n",
       "    .dataframe thead th {\n",
       "        text-align: right;\n",
       "    }\n",
       "</style>\n",
       "<table border=\"1\" class=\"dataframe\">\n",
       "  <thead>\n",
       "    <tr style=\"text-align: right;\">\n",
       "      <th></th>\n",
       "      <th>time_taken</th>\n",
       "      <th>price</th>\n",
       "      <th>Days_Left</th>\n",
       "    </tr>\n",
       "  </thead>\n",
       "  <tbody>\n",
       "    <tr>\n",
       "      <th>0</th>\n",
       "      <td>130</td>\n",
       "      <td>5953</td>\n",
       "      <td>1</td>\n",
       "    </tr>\n",
       "    <tr>\n",
       "      <th>1</th>\n",
       "      <td>140</td>\n",
       "      <td>5953</td>\n",
       "      <td>1</td>\n",
       "    </tr>\n",
       "    <tr>\n",
       "      <th>2</th>\n",
       "      <td>130</td>\n",
       "      <td>5956</td>\n",
       "      <td>1</td>\n",
       "    </tr>\n",
       "    <tr>\n",
       "      <th>3</th>\n",
       "      <td>135</td>\n",
       "      <td>5955</td>\n",
       "      <td>1</td>\n",
       "    </tr>\n",
       "    <tr>\n",
       "      <th>4</th>\n",
       "      <td>140</td>\n",
       "      <td>5955</td>\n",
       "      <td>1</td>\n",
       "    </tr>\n",
       "    <tr>\n",
       "      <th>...</th>\n",
       "      <td>...</td>\n",
       "      <td>...</td>\n",
       "      <td>...</td>\n",
       "    </tr>\n",
       "    <tr>\n",
       "      <th>298921</th>\n",
       "      <td>605</td>\n",
       "      <td>69265</td>\n",
       "      <td>49</td>\n",
       "    </tr>\n",
       "    <tr>\n",
       "      <th>298922</th>\n",
       "      <td>625</td>\n",
       "      <td>77105</td>\n",
       "      <td>49</td>\n",
       "    </tr>\n",
       "    <tr>\n",
       "      <th>298923</th>\n",
       "      <td>830</td>\n",
       "      <td>79099</td>\n",
       "      <td>49</td>\n",
       "    </tr>\n",
       "    <tr>\n",
       "      <th>298924</th>\n",
       "      <td>600</td>\n",
       "      <td>81585</td>\n",
       "      <td>49</td>\n",
       "    </tr>\n",
       "    <tr>\n",
       "      <th>298925</th>\n",
       "      <td>605</td>\n",
       "      <td>81585</td>\n",
       "      <td>49</td>\n",
       "    </tr>\n",
       "  </tbody>\n",
       "</table>\n",
       "<p>298926 rows × 3 columns</p>\n",
       "</div>"
      ],
      "text/plain": [
       "        time_taken  price  Days_Left\n",
       "0              130   5953          1\n",
       "1              140   5953          1\n",
       "2              130   5956          1\n",
       "3              135   5955          1\n",
       "4              140   5955          1\n",
       "...            ...    ...        ...\n",
       "298921         605  69265         49\n",
       "298922         625  77105         49\n",
       "298923         830  79099         49\n",
       "298924         600  81585         49\n",
       "298925         605  81585         49\n",
       "\n",
       "[298926 rows x 3 columns]"
      ]
     },
     "execution_count": 14,
     "metadata": {},
     "output_type": "execute_result"
    }
   ],
   "source": [
    "numerical_columns"
   ]
  },
  {
   "cell_type": "markdown",
   "id": "196a50d5-460e-46db-958c-1861f9fd9ee9",
   "metadata": {},
   "source": [
    "# Label Encoding"
   ]
  },
  {
   "cell_type": "code",
   "execution_count": 18,
   "id": "b6f4e5b5-0f33-4782-8048-468700b43a82",
   "metadata": {},
   "outputs": [],
   "source": [
    "# Apply Label Encoding for categorical features\n",
    "le = LabelEncoder()\n",
    "for col in categorical_columns:\n",
    "    airfare_dataset[col] = le.fit_transform(airfare_dataset[col])"
   ]
  },
  {
   "cell_type": "markdown",
   "id": "fdfbeef9-2cb4-4484-8b3f-3158e6c3ba7e",
   "metadata": {},
   "source": [
    "# Feature & Label splitting"
   ]
  },
  {
   "cell_type": "code",
   "execution_count": 19,
   "id": "5f98c45a-442d-4379-8090-f3c74a04db97",
   "metadata": {},
   "outputs": [],
   "source": [
    "# Define features and target variable\n",
    "X = airfare_dataset.drop(columns=['price'])  # Independent variables\n",
    "y = airfare_dataset['price']  # Target variable"
   ]
  },
  {
   "cell_type": "markdown",
   "id": "ea8b75ae-d306-4de9-8bdb-ebfbbba22af0",
   "metadata": {},
   "source": [
    "# Feature Scaling"
   ]
  },
  {
   "cell_type": "code",
   "execution_count": 20,
   "id": "dc261c6a-791d-4018-955a-0db065cc9e24",
   "metadata": {},
   "outputs": [],
   "source": [
    "# Standardize numerical features\n",
    "scaler = StandardScaler()\n",
    "X_scaled = scaler.fit_transform(X)"
   ]
  },
  {
   "cell_type": "markdown",
   "id": "4e78352e-34cc-44f2-b9cc-0fe62551a00f",
   "metadata": {},
   "source": [
    "# Train-Test Split & Data Scaling"
   ]
  },
  {
   "cell_type": "code",
   "execution_count": 21,
   "id": "b45b46bb-d02d-4a4b-ade2-a71017af40bd",
   "metadata": {},
   "outputs": [],
   "source": [
    "# Split dataset into training and testing sets\n",
    "X_train, X_test, y_train, y_test = train_test_split(X_scaled, y, test_size=0.2, random_state=42)"
   ]
  },
  {
   "cell_type": "code",
   "execution_count": 24,
   "id": "3e9b23ca-9434-4f4c-98ca-bec2631c3b28",
   "metadata": {},
   "outputs": [
    {
     "name": "stdout",
     "output_type": "stream",
     "text": [
      "(298926, 9) (239140, 9) (59786, 9)\n"
     ]
    }
   ],
   "source": [
    "print(X.shape, X_train.shape, X_test.shape)"
   ]
  },
  {
   "cell_type": "markdown",
   "id": "6265c348-f107-4da3-9f52-1a6e68bd9566",
   "metadata": {},
   "source": [
    "#  Model Training & Evaluation"
   ]
  },
  {
   "cell_type": "code",
   "execution_count": null,
   "id": "5d723a6d-4c29-4e58-805f-21b2d26d7280",
   "metadata": {},
   "outputs": [],
   "source": [
    "# Function to evaluate models\n",
    "def evaluate_model(model, X_train, X_test, y_train, y_test):\n",
    "    model.fit(X_train, y_train)\n",
    "    y_pred = model.predict(X_test)\n",
    "    print(f\"MAE: {mean_absolute_error(y_test, y_pred)}\")\n",
    "    print(f\"MSE: {mean_squared_error(y_test, y_pred)}\")\n",
    "    print(f\"RMSE: {np.sqrt(mean_squared_error(y_test, y_pred))}\")\n",
    "    print(f\"R2 Score: {r2_score(y_test, y_pred)}\")"
   ]
  }
 ],
 "metadata": {
  "kernelspec": {
   "display_name": "Python 3 (ipykernel)",
   "language": "python",
   "name": "python3"
  },
  "language_info": {
   "codemirror_mode": {
    "name": "ipython",
    "version": 3
   },
   "file_extension": ".py",
   "mimetype": "text/x-python",
   "name": "python",
   "nbconvert_exporter": "python",
   "pygments_lexer": "ipython3",
   "version": "3.12.7"
  }
 },
 "nbformat": 4,
 "nbformat_minor": 5
}
