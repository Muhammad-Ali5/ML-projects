{
 "cells": [
  {
   "cell_type": "code",
   "execution_count": 1,
   "id": "f3892aac-7330-454f-91bf-914d89d1ac99",
   "metadata": {},
   "outputs": [
    {
     "name": "stdout",
     "output_type": "stream",
     "text": [
      "\u001b[36mHello, Muhammad Ali! \u001b[0m\n",
      "\u001b[32mPython is awesome! \u001b[0m\n",
      "\u001b[1m\u001b[31mEnjoy coding \u001b[0m\n"
     ]
    }
   ],
   "source": [
    "from termcolor import colored\n",
    "\n",
    "print(colored(\"Hello, Muhammad Ali! \", \"cyan\"))\n",
    "print(colored(\"Python is awesome! \", \"green\"))\n",
    "print(colored(\"Enjoy coding \", \"red\", attrs=[\"bold\"]))"
   ]
  },
  {
   "cell_type": "code",
   "execution_count": 2,
   "id": "6a0ea9c7-73cf-4dba-ad89-d13298a75488",
   "metadata": {},
   "outputs": [],
   "source": [
    "# import time\n",
    "# from datetime import datetime\n",
    "\n",
    "# while True:\n",
    "#     print(datetime.now().strftime(\"%Y-%m-%d %H:%M:%S\"), end=\"\\r\", flush=True)\n",
    "#     time.sleep(1)"
   ]
  },
  {
   "cell_type": "code",
   "execution_count": 3,
   "id": "22e50c6c-a959-4405-8a85-e58e15b8b2ff",
   "metadata": {},
   "outputs": [
    {
     "name": "stdout",
     "output_type": "stream",
     "text": [
      "Your random emoji: 🎉\n"
     ]
    }
   ],
   "source": [
    "import random\n",
    "\n",
    "emojis = [\"😀\", \"🚀\", \"🔥\", \"💡\", \"🐍\", \"❤️\", \"🎯\", \"🧠\", \"🎉\"]\n",
    "print(\"Your random emoji:\", random.choice(emojis))"
   ]
  },
  {
   "cell_type": "code",
   "execution_count": 4,
   "id": "b68c5c01-6f45-4632-a840-fa69503984a0",
   "metadata": {},
   "outputs": [
    {
     "name": "stdout",
     "output_type": "stream",
     "text": [
      " Countdown: 1 seconds\n",
      "Boom! Time's up!\n"
     ]
    }
   ],
   "source": [
    "import time\n",
    "\n",
    "for i in range(5, 0, -1):\n",
    "    print(f\" Countdown: {i} seconds\", end=\"\\r\", flush=True)\n",
    "    time.sleep(1)\n",
    "print(\"\\nBoom! Time's up!\")"
   ]
  },
  {
   "cell_type": "code",
   "execution_count": 5,
   "id": "10e10b49-a666-4f46-8d58-2ec836d64a91",
   "metadata": {},
   "outputs": [
    {
     "data": {
      "text/plain": [
       "0"
      ]
     },
     "execution_count": 5,
     "metadata": {},
     "output_type": "execute_result"
    }
   ],
   "source": [
    "import os\n",
    "os.system('echo -e \"\\a\"')  # Only works on some OS like Linux/Mac"
   ]
  },
  {
   "cell_type": "code",
   "execution_count": 6,
   "id": "3c557787-0930-4c06-a369-f099d54e7e23",
   "metadata": {},
   "outputs": [
    {
     "name": "stdout",
     "output_type": "stream",
     "text": [
      " Your Public IP Address: 121.52.147.62\n"
     ]
    }
   ],
   "source": [
    "import requests\n",
    "\n",
    "ip = requests.get(\"https://api64.ipify.org?format=json\").json()[\"ip\"]\n",
    "print(\" Your Public IP Address:\", ip)"
   ]
  },
  {
   "cell_type": "code",
   "execution_count": 7,
   "id": "0e858a58-aac9-4c27-9ce3-e8fdadd08de1",
   "metadata": {},
   "outputs": [
    {
     "name": "stdout",
     "output_type": "stream",
     "text": [
      "System: Windows 10\n",
      " CPU Cores: 4\n",
      " Battery: 25 %\n"
     ]
    }
   ],
   "source": [
    "import platform\n",
    "import psutil\n",
    "\n",
    "print(\"System:\", platform.system(), platform.release())\n",
    "print(\" CPU Cores:\", psutil.cpu_count(logical=True))\n",
    "print(\" Battery:\", psutil.sensors_battery().percent, \"%\")\n"
   ]
  },
  {
   "cell_type": "code",
   "execution_count": 8,
   "id": "35ac01ee-0b9f-4628-80cf-cccc982980a1",
   "metadata": {},
   "outputs": [
    {
     "name": "stdout",
     "output_type": "stream",
     "text": [
      "Progress: [##################################################] 100%\n",
      "Done!\n"
     ]
    }
   ],
   "source": [
    "import time\n",
    "import sys\n",
    "\n",
    "def progress_bar(duration=5):\n",
    "    for i in range(101):\n",
    "        time.sleep(duration / 100)\n",
    "        sys.stdout.write(f\"\\rProgress: [{'#' * (i//2)}{'-' * (50 - i//2)}] {i}%\")\n",
    "        sys.stdout.flush()\n",
    "    print(\"\\nDone!\")\n",
    "\n",
    "progress_bar()"
   ]
  },
  {
   "cell_type": "code",
   "execution_count": 9,
   "id": "00adb0a3-73da-4b58-8c6e-c088ac36adcd",
   "metadata": {},
   "outputs": [
    {
     "name": "stdout",
     "output_type": "stream",
     "text": [
      "Partly cloudy +16°C\n"
     ]
    }
   ],
   "source": [
    "import requests\n",
    "print(requests.get(\"https://wttr.in?format=%C+%t\").text)  # Shows weather & temperature"
   ]
  },
  {
   "cell_type": "code",
   "execution_count": 10,
   "id": "a942c8d7-11c5-47fa-bcdd-f57c3c4bd7d8",
   "metadata": {},
   "outputs": [
    {
     "name": "stdout",
     "output_type": "stream",
     "text": [
      " Startup Idea:  A Blockchain-powered Gaming startup with a subscription model!\n"
     ]
    }
   ],
   "source": [
    "import random\n",
    "\n",
    "tech = [\"AI\", \"Blockchain\", \"IoT\", \"VR\", \"Quantum Computing\"]\n",
    "industry = [\"Healthcare\", \"Education\", \"Finance\", \"Gaming\", \"Agriculture\"]\n",
    "twist = [\"subscription model\", \"personalized AI assistant\", \"decentralized platform\"]\n",
    "\n",
    "idea = f\" A {random.choice(tech)}-powered {random.choice(industry)} startup with a {random.choice(twist)}!\"\n",
    "print(\" Startup Idea:\", idea)"
   ]
  },
  {
   "cell_type": "code",
   "execution_count": 11,
   "id": "2f325851-287b-4c98-8273-fc4521361d25",
   "metadata": {},
   "outputs": [],
   "source": [
    "# import random\n",
    "# import time\n",
    "\n",
    "# chars = \"01\"\n",
    "# while True:\n",
    "#     print(\"\".join(random.choice(chars) for _ in range(50)))\n",
    "#     time.sleep(0.1)"
   ]
  },
  {
   "cell_type": "code",
   "execution_count": 12,
   "id": "6502ce22-1821-4ec4-aa58-4fbd8a5d0bfc",
   "metadata": {},
   "outputs": [
    {
     "name": "stdout",
     "output_type": "stream",
     "text": [
      "Your AI Resume Score: 77%\n",
      "You're an AI Rockstar!\n"
     ]
    }
   ],
   "source": [
    "import random\n",
    "\n",
    "skills = [\"Python\", \"Machine Learning\", \"Deep Learning\", \"NLP\", \"Data Science\"]\n",
    "score = random.randint(50, 100)\n",
    "\n",
    "print(f\"Your AI Resume Score: {score}%\")\n",
    "if score > 75:\n",
    "    print(\"You're an AI Rockstar!\")\n",
    "else:\n",
    "    print(\" Keep learning & improving!\")"
   ]
  },
  {
   "cell_type": "code",
   "execution_count": 13,
   "id": "e4f7b731-8985-43a7-963f-1500d6f7be2c",
   "metadata": {},
   "outputs": [
    {
     "name": "stdout",
     "output_type": "stream",
     "text": [
      "Checking LinkedIn profile: https://www.linkedin.com/in/your-linkedin-username\n"
     ]
    }
   ],
   "source": [
    "#import requests\n",
    "username = \"your-linkedin-username\"  # Replace with your username\n",
    "url = f\"https://www.linkedin.com/in/{username}\"\n",
    "print(f\"Checking LinkedIn profile: {url}\")"
   ]
  },
  {
   "cell_type": "code",
   "execution_count": 35,
   "id": "81dfadb9-972f-4627-87c0-68f4982cd78b",
   "metadata": {},
   "outputs": [],
   "source": [
    "import winsound\n",
    "winsound.Beep(440, 500)  # Plays a beep sound at 440 Hz for 500ms"
   ]
  },
  {
   "cell_type": "code",
   "execution_count": 38,
   "id": "92c76162-11e6-4cc1-87dd-60e0eb7288c4",
   "metadata": {},
   "outputs": [
    {
     "name": "stdout",
     "output_type": "stream",
     "text": [
      " LinkedIn Post Idea:  Data Science is changing the world! #Tech #Innovation\n"
     ]
    }
   ],
   "source": [
    "import random\n",
    "\n",
    "topics = [\"AI\", \"Python\", \"Data Science\", \"Cloud Computing\", \"Cybersecurity\"]\n",
    "hooks = [\"is revolutionizing the industry!\", \"is a must-learn skill!\", \"is changing the world!\", \"is the future of tech!\"]\n",
    "\n",
    "post = f\" {random.choice(topics)} {random.choice(hooks)} #Tech #Innovation\"\n",
    "print(\" LinkedIn Post Idea:\", post)"
   ]
  },
  {
   "cell_type": "code",
   "execution_count": 14,
   "id": "9001e91b-7d38-4cd8-872e-a0e9a96f35e1",
   "metadata": {},
   "outputs": [
    {
     "name": "stdout",
     "output_type": "stream",
     "text": [
      "List L: [9, 2, 3]\n",
      "String s: Hello\n"
     ]
    }
   ],
   "source": [
    "# List--->mutable\n",
    "L = [1, 2, 3]\n",
    "L[0] = 9  \n",
    "print(\"List L:\", L)  \n",
    "\n",
    "# String--->immutable\n",
    "s = \"hello\"\n",
    "# s[0] = \"H\"  # This would cause an error\n",
    "s = \"Hello\"  \n",
    "print(\"String s:\", s)"
   ]
  },
  {
   "cell_type": "code",
   "execution_count": 15,
   "id": "5685766c-ebef-4cad-90de-56883263200e",
   "metadata": {},
   "outputs": [
    {
     "name": "stdout",
     "output_type": "stream",
     "text": [
      "L: [9, 2, 3]\n",
      "copy: [9, 2, 3]\n",
      "L: [9, 2, 3]\n",
      "copy: [1, 2, 3]\n"
     ]
    }
   ],
   "source": [
    "# Reference (both point to the same list)\n",
    "L = [1, 2, 3]\n",
    "copy = L\n",
    "L[0] = 9\n",
    "print(\"L:\", L)       \n",
    "print(\"copy:\", copy) \n",
    "\n",
    "# Real copy\n",
    "L = [1, 2, 3]\n",
    "copy = L[:]  # Creates a new list\n",
    "L[0] = 9\n",
    "print(\"L:\", L)       \n",
    "print(\"copy:\", copy)"
   ]
  },
  {
   "cell_type": "code",
   "execution_count": 16,
   "id": "8121147e-0ed0-4c95-8177-4b29dc83945c",
   "metadata": {},
   "outputs": [
    {
     "name": "stdout",
     "output_type": "stream",
     "text": [
      "Tuple t: (1, 2, 3)\n",
      "First item: 1\n",
      "Converted to tuple: (1, 2, 3)\n"
     ]
    }
   ],
   "source": [
    "# Tuple\n",
    "t = (1, 2, 3)\n",
    "print(\"Tuple t:\", t)     \n",
    "print(\"First item:\", t[0])  \n",
    "\n",
    "# Convert list to tuple\n",
    "L = [1, 2, 3]\n",
    "t = tuple(L)\n",
    "print(\"Converted to tuple:\", t) "
   ]
  },
  {
   "cell_type": "code",
   "execution_count": 17,
   "id": "68f6c8c2-6ddd-4afc-b731-396c4e6e4a8a",
   "metadata": {},
   "outputs": [
    {
     "name": "stdout",
     "output_type": "stream",
     "text": [
      "Set S: {1, 2, 3}\n",
      "List without repeats: [1, 2, 4, 5]\n"
     ]
    }
   ],
   "source": [
    "# Create a set\n",
    "S = {1, 2, 2, 3}  # Duplicates are ignored\n",
    "print(\"Set S:\", S)  # Output: {1, 2, 3}\n",
    "\n",
    "# Remove duplicates from a list\n",
    "L = [1, 4, 4, 5, 1, 2]\n",
    "L = list(set(L))\n",
    "print(\"List without repeats:\", L)  # Output: [1, 2, 4, 5]"
   ]
  },
  {
   "cell_type": "code",
   "execution_count": 18,
   "id": "f81a0fa5-9955-4ac5-a005-98b8a86f6e59",
   "metadata": {},
   "outputs": [
    {
     "name": "stdout",
     "output_type": "stream",
     "text": [
      "Unicode of 'A': 65\n",
      "Character for 65: A\n"
     ]
    }
   ],
   "source": [
    "# Get Unicode number of a character\n",
    "num = ord('A')\n",
    "print(\"Unicode of 'A':\", num)  # Output: 65\n",
    "\n",
    "# Get character from Unicode number\n",
    "char = chr(65)\n",
    "print(\"Character for 65:\", char)  # Output: A"
   ]
  },
  {
   "cell_type": "code",
   "execution_count": 19,
   "id": "c33b0546-85fb-4b12-bb54-a1b090dc261e",
   "metadata": {},
   "outputs": [
    {
     "name": "stdout",
     "output_type": "stream",
     "text": [
      "Original L: [3, 1, 2]\n",
      "Sorted M: [1, 2, 3]\n",
      "Sorted string: ['a', 'b', 'x', 'y', 'z']\n"
     ]
    }
   ],
   "source": [
    "# Sort a list\n",
    "L = [3, 1, 2]\n",
    "M = sorted(L)\n",
    "print(\"Original L:\", L)  \n",
    "print(\"Sorted M:\", M)   \n",
    "\n",
    "# Sort a string into a list\n",
    "s = \"xyzab\"\n",
    "sorted_s = sorted(s)\n",
    "print(\"Sorted string:\", sorted_s)  "
   ]
  },
  {
   "cell_type": "code",
   "execution_count": 20,
   "id": "756cbd01-ce43-460e-acc2-19fc6078d188",
   "metadata": {},
   "outputs": [
    {
     "name": "stdout",
     "output_type": "stream",
     "text": [
      "x : a\n",
      "He scored 5 points.\n"
     ]
    }
   ],
   "source": [
    "# Ternary operator\n",
    "y = 4\n",
    "x = 'a' if y == 4 else 'b'\n",
    "print(\"x :\", x) \n",
    "\n",
    "\n",
    "score = 5\n",
    "print(f\"He scored {score} point{'s' if score > 1 else ''}.\") "
   ]
  },
  {
   "cell_type": "code",
   "execution_count": 21,
   "id": "4ee4c13b-b8b5-405e-9651-e7d5565c5078",
   "metadata": {},
   "outputs": [
    {
     "name": "stdout",
     "output_type": "stream",
     "text": [
      "3\n",
      "4\n"
     ]
    }
   ],
   "source": [
    "# Skip numbers less than 3\n",
    "for i in range(5):\n",
    "    if i < 3:\n",
    "        continue\n",
    "    print(i)  "
   ]
  },
  {
   "cell_type": "code",
   "execution_count": 22,
   "id": "8e49f40b-16be-4024-80b5-2feb9bd64ec0",
   "metadata": {},
   "outputs": [
    {
     "name": "stdout",
     "output_type": "stream",
     "text": [
      "Eval result: 17\n",
      "6\n"
     ]
    }
   ],
   "source": [
    "# Eval for an expression\n",
    "num = eval(\"3 * 4 + 5\")\n",
    "print(\"Eval result:\", num) \n",
    "\n",
    "code = \"\"\"\n",
    "x = 3\n",
    "print(x * 2)\n",
    "\"\"\"\n",
    "exec(code)  "
   ]
  },
  {
   "cell_type": "code",
   "execution_count": 23,
   "id": "96d0e753-4d85-4941-8b13-c2098b98bfe1",
   "metadata": {},
   "outputs": [
    {
     "name": "stdout",
     "output_type": "stream",
     "text": [
      "Index 0: a\n",
      "Index 1: b\n",
      "Index 2: c\n",
      "Zipped: [('a', 10), ('b', 20), ('c', 30)]\n"
     ]
    }
   ],
   "source": [
    "# Enumerate (index and value)\n",
    "s = \"abc\"\n",
    "for i, x in enumerate(s):\n",
    "    print(f\"Index {i}: {x}\")  \n",
    "\n",
    "# Zip (pair two lists)\n",
    "s = \"abc\"\n",
    "L = [10, 20, 30]\n",
    "pairs = list(zip(s, L))\n",
    "print(\"Zipped:\", pairs) "
   ]
  },
  {
   "cell_type": "code",
   "execution_count": 24,
   "id": "024358d2-5bc5-4d11-8f7e-753e048af9fa",
   "metadata": {},
   "outputs": [
    {
     "name": "stdout",
     "output_type": "stream",
     "text": [
      "L: [[100, 2], [3, 4]]\n",
      "M: [[100, 2], [3, 4]]\n",
      "L: [[100, 2], [3, 4]]\n",
      "M: [[1, 2], [3, 4]]\n"
     ]
    }
   ],
   "source": [
    "from copy import copy, deepcopy\n",
    "\n",
    "# Shallow copy\n",
    "L = [[1, 2], [3, 4]]\n",
    "M = copy(L)\n",
    "L[0][0] = 100\n",
    "print(\"L:\", L)  \n",
    "print(\"M:\", M)  \n",
    "\n",
    "# Deep copy\n",
    "L = [[1, 2], [3, 4]]\n",
    "M = deepcopy(L)\n",
    "L[0][0] = 100\n",
    "print(\"L:\", L) \n",
    "print(\"M:\", M)  "
   ]
  },
  {
   "cell_type": "code",
   "execution_count": 25,
   "id": "1ed75abf-8e58-482e-b5c4-412ee361f744",
   "metadata": {},
   "outputs": [
    {
     "name": "stdout",
     "output_type": "stream",
     "text": [
      "Translated: 12112\n"
     ]
    }
   ],
   "source": [
    "# Simple translation\n",
    "d = str.maketrans({'a': '1', 'b': '2'})\n",
    "s = \"abaab\".translate(d)\n",
    "print(\"Translated:\", s) "
   ]
  },
  {
   "cell_type": "code",
   "execution_count": 26,
   "id": "1a158c32-7fdf-42f1-912c-bc4b7c1e0ffa",
   "metadata": {},
   "outputs": [
    {
     "name": "stdout",
     "output_type": "stream",
     "text": [
      "Waiting...\n",
      "Done!\n",
      "Took 0.199 seconds.\n"
     ]
    }
   ],
   "source": [
    "from time import sleep, time\n",
    "\n",
    "# Pause for 2 seconds\n",
    "print(\"Waiting...\")\n",
    "sleep(2)\n",
    "print(\"Done!\")\n",
    "\n",
    "# Measure time\n",
    "start = time()\n",
    "for i in range(1000000):\n",
    "    pass\n",
    "print(f\"Took {time() - start:.3f} seconds.\") "
   ]
  },
  {
   "cell_type": "code",
   "execution_count": 27,
   "id": "10b07fdf-b122-41c7-835c-8c751136719e",
   "metadata": {},
   "outputs": [
    {
     "name": "stdout",
     "output_type": "stream",
     "text": [
      "Today: 3/10/2025 23:8:59\n"
     ]
    }
   ],
   "source": [
    "from datetime import datetime\n",
    "\n",
    "# Current date and time\n",
    "d = datetime.now()\n",
    "print(f\"Today: {d.month}/{d.day}/{d.year} {d.hour}:{d.minute}:{d.second}\")"
   ]
  },
  {
   "cell_type": "code",
   "execution_count": 28,
   "id": "47983ff0-b21e-4bcf-a55f-24be5f6bd756",
   "metadata": {},
   "outputs": [
    {
     "name": "stdout",
     "output_type": "stream",
     "text": [
      "Files: ['.ipynb_checkpoints', '23DBCS354 M ALI LAB 5.zip', 'Function With Diff Operation 23MDBCS354.ipynb', 'Python Data-Structures 23MDBCS354.ipynb']\n",
      "Does test.txt exist? False\n"
     ]
    }
   ],
   "source": [
    "import os\n",
    "\n",
    "# List files in current directory\n",
    "files = os.listdir()\n",
    "print(\"Files:\", files)\n",
    "\n",
    "# Check if a file exists\n",
    "file = \"test.txt\"\n",
    "print(f\"Does {file} exist? {os.path.exists(file)}\")"
   ]
  },
  {
   "cell_type": "code",
   "execution_count": 29,
   "id": "89d272e6-3745-4c11-b038-c605581fdf56",
   "metadata": {},
   "outputs": [
    {
     "name": "stdout",
     "output_type": "stream",
     "text": [
      "f(3): 9\n",
      "Result: 25\n"
     ]
    }
   ],
   "source": [
    "# Assign function to variable\n",
    "def square(x):\n",
    "    return x * x\n",
    "\n",
    "f = square\n",
    "print(\"f(3):\", f(3)) \n",
    "\n",
    "# Function as argument\n",
    "def apply(func, x):\n",
    "    return func(x)\n",
    "\n",
    "result = apply(square, 5)\n",
    "print(\"Result:\", result)  "
   ]
  },
  {
   "cell_type": "code",
   "execution_count": 30,
   "id": "4c83c5de-acdb-4a1d-97da-62d0f3edc557",
   "metadata": {},
   "outputs": [
    {
     "name": "stdout",
     "output_type": "stream",
     "text": [
      "Sorted by second item: [(3, 2), (5, 4), (1, 7)]\n"
     ]
    }
   ],
   "source": [
    "# Sort by second item using lambda\n",
    "L = [(5, 4), (3, 2), (1, 7)]\n",
    "L.sort(key=lambda x: x[1])\n",
    "print(\"Sorted by second item:\", L) "
   ]
  },
  {
   "cell_type": "code",
   "execution_count": 31,
   "id": "341aeacb-4aaf-4a42-a8d2-53c48e73a1a6",
   "metadata": {},
   "outputs": [
    {
     "name": "stdout",
     "output_type": "stream",
     "text": [
      "Lengths: [4, 2, 1]\n",
      "Long words: ['this']\n"
     ]
    }
   ],
   "source": [
    "# Map: Apply len to each word\n",
    "L = list(map(len, [\"this\", \"is\", \"a\"]))\n",
    "print(\"Lengths:\", L)  \n",
    "\n",
    "# Filter: Keep words longer than 2\n",
    "L = list(filter(lambda x: len(x) > 2, [\"this\", \"is\", \"a\"]))\n",
    "print(\"Long words:\", L)"
   ]
  },
  {
   "cell_type": "code",
   "execution_count": 32,
   "id": "34d64001-b4f6-4e3d-bde6-fe57045bdef7",
   "metadata": {},
   "outputs": [
    {
     "name": "stdout",
     "output_type": "stream",
     "text": [
      "Total: 15\n"
     ]
    }
   ],
   "source": [
    "from functools import reduce\n",
    "\n",
    "# Add numbers 1 to 5\n",
    "total = reduce(lambda x, y: x + y, range(1, 6))\n",
    "print(\"Total:\", total)"
   ]
  },
  {
   "cell_type": "code",
   "execution_count": 33,
   "id": "7f7a1f18-65da-4626-ba39-e6204d7312f6",
   "metadata": {},
   "outputs": [
    {
     "name": "stdout",
     "output_type": "stream",
     "text": [
      "12\n",
      "24\n"
     ]
    }
   ],
   "source": [
    "def product(*nums):\n",
    "    prod = 1\n",
    "    for n in nums:\n",
    "        prod *= n\n",
    "    return prod\n",
    "\n",
    "print(product(3, 4))     \n",
    "print(product(2, 3, 4))  "
   ]
  },
  {
   "cell_type": "code",
   "execution_count": null,
   "id": "0e23d219-d3cb-44f0-8c0f-05f96c1ad31a",
   "metadata": {},
   "outputs": [],
   "source": []
  }
 ],
 "metadata": {
  "kernelspec": {
   "display_name": "Python 3 (ipykernel)",
   "language": "python",
   "name": "python3"
  },
  "language_info": {
   "codemirror_mode": {
    "name": "ipython",
    "version": 3
   },
   "file_extension": ".py",
   "mimetype": "text/x-python",
   "name": "python",
   "nbconvert_exporter": "python",
   "pygments_lexer": "ipython3",
   "version": "3.12.7"
  }
 },
 "nbformat": 4,
 "nbformat_minor": 5
}
