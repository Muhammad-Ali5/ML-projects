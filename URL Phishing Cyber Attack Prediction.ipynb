{
 "cells": [
  {
   "cell_type": "markdown",
   "id": "c298fab9-46e1-4272-b6e1-9a341a1b776a",
   "metadata": {},
   "source": [
    "# Import Required Libraries"
   ]
  },
  {
   "cell_type": "code",
   "execution_count": 1,
   "id": "4a6d833b-f8ae-4408-8098-aebdef0bd73a",
   "metadata": {},
   "outputs": [],
   "source": [
    "# Import necessary libraries\n",
    "import numpy as np  # numerical operations\n",
    "import pandas as pd  #handling dataframes\n",
    "import re  # Regular expressions for pattern matching\n",
    "import joblib  # saving and loading models\n",
    "\n",
    "# Import Machine Learning libraries\n",
    "from sklearn.model_selection import train_test_split  # Splitting data\n",
    "from sklearn.ensemble import RandomForestClassifier  # Random Forest classifier\n",
    "from sklearn.metrics import classification_report, accuracy_score  # Model evaluation"
   ]
  },
  {
   "cell_type": "markdown",
   "id": "70995ab8-0205-4f36-a310-f0384d7d73c9",
   "metadata": {},
   "source": [
    "# Load and Explore the Dataset"
   ]
  },
  {
   "cell_type": "code",
   "execution_count": 2,
   "id": "f2cfe08d-e9c3-4923-ae88-3b86281388dd",
   "metadata": {},
   "outputs": [],
   "source": [
    "# Load the dataset from CSV file\n",
    "url_data = pd.read_csv(\"malicious_phish1.csv\") "
   ]
  },
  {
   "cell_type": "code",
   "execution_count": 3,
   "id": "ba18d200-756b-4993-b38a-312e56b3748f",
   "metadata": {},
   "outputs": [
    {
     "name": "stdout",
     "output_type": "stream",
     "text": [
      "                                                 url        type\n",
      "0                                   br-icloud.com.br    phishing\n",
      "1                mp3raid.com/music/krizz_kaliko.html      benign\n",
      "2                    bopsecrets.org/rexroth/cr/1.htm      benign\n",
      "3  http://www.garage-pirenne.be/index.php?option=...  defacement\n",
      "4  http://adventure-nicaragua.net/index.php?optio...  defacement\n",
      "5  http://buzzfil.net/m/show-art/ils-etaient-loin...      benign\n",
      "6      espn.go.com/nba/player/_/id/3457/brandon-rush      benign\n",
      "7     yourbittorrent.com/?q=anthony-hamilton-soulife      benign\n",
      "8       http://www.pashminaonline.com/pure-pashminas  defacement\n",
      "9      allmusic.com/album/crazy-from-the-heat-r16990      benign\n"
     ]
    }
   ],
   "source": [
    "# Display first 10 rows to understand the data\n",
    "print(url_data.head(10))  "
   ]
  },
  {
   "cell_type": "code",
   "execution_count": 4,
   "id": "f1087367-8450-4101-91ca-b3480a97ce8f",
   "metadata": {},
   "outputs": [
    {
     "name": "stdout",
     "output_type": "stream",
     "text": [
      "<class 'pandas.core.frame.DataFrame'>\n",
      "RangeIndex: 651191 entries, 0 to 651190\n",
      "Data columns (total 2 columns):\n",
      " #   Column  Non-Null Count   Dtype \n",
      "---  ------  --------------   ----- \n",
      " 0   url     651191 non-null  object\n",
      " 1   type    651191 non-null  object\n",
      "dtypes: object(2)\n",
      "memory usage: 9.9+ MB\n",
      "None\n"
     ]
    }
   ],
   "source": [
    "# Check basic dataset information (columns, datatypes, missing values)\n",
    "print(url_data.info())  "
   ]
  },
  {
   "cell_type": "code",
   "execution_count": 5,
   "id": "f0d41959-81b5-4420-aef9-d6cee677df5e",
   "metadata": {},
   "outputs": [
    {
     "name": "stdout",
     "output_type": "stream",
     "text": [
      "url     0\n",
      "type    0\n",
      "dtype: int64\n"
     ]
    }
   ],
   "source": [
    "# Check for missing values in each column\n",
    "print(url_data.isnull().sum())  "
   ]
  },
  {
   "cell_type": "code",
   "execution_count": 6,
   "id": "ef11433e-1cd5-4e05-ae38-7621db6a39d3",
   "metadata": {},
   "outputs": [],
   "source": [
    "# Drop any missing values (if they exist)\n",
    "url_data = url_data.dropna()  "
   ]
  },
  {
   "cell_type": "code",
   "execution_count": 7,
   "id": "1e0c38fc-1113-4549-b58f-daed1d1de072",
   "metadata": {},
   "outputs": [
    {
     "name": "stdout",
     "output_type": "stream",
     "text": [
      "                                                      url    type\n",
      "count                                              651191  651191\n",
      "unique                                             641119       4\n",
      "top     http://style.org.hc360.com/css/detail/mysite/s...  benign\n",
      "freq                                                  180  428103\n"
     ]
    }
   ],
   "source": [
    "# Display summary statistics of the dataset\n",
    "print(url_data.describe()) "
   ]
  },
  {
   "cell_type": "code",
   "execution_count": null,
   "id": "b43f97bc-be9c-4189-a313-390101f37b0b",
   "metadata": {},
   "outputs": [],
   "source": []
  },
  {
   "cell_type": "markdown",
   "id": "9f81fcc5-1ba3-471c-95b8-d14bd9247f71",
   "metadata": {},
   "source": [
    "# Convert Categorical Labels into Numerical Values"
   ]
  },
  {
   "cell_type": "code",
   "execution_count": 8,
   "id": "ee742136-e1a2-45db-8165-3b25111280d0",
   "metadata": {},
   "outputs": [
    {
     "name": "stdout",
     "output_type": "stream",
     "text": [
      "                                                 url  type\n",
      "0                                   br-icloud.com.br     1\n",
      "1                mp3raid.com/music/krizz_kaliko.html     0\n",
      "2                    bopsecrets.org/rexroth/cr/1.htm     0\n",
      "3  http://www.garage-pirenne.be/index.php?option=...     2\n",
      "4  http://adventure-nicaragua.net/index.php?optio...     2\n",
      "5  http://buzzfil.net/m/show-art/ils-etaient-loin...     0\n",
      "6      espn.go.com/nba/player/_/id/3457/brandon-rush     0\n",
      "7     yourbittorrent.com/?q=anthony-hamilton-soulife     0\n",
      "8       http://www.pashminaonline.com/pure-pashminas     2\n",
      "9      allmusic.com/album/crazy-from-the-heat-r16990     0\n"
     ]
    }
   ],
   "source": [
    "# Define a mapping dictionary to convert text labels to numbers\n",
    "label_mapping = {'phishing': 1, 'benign': 0, 'defacement': 2, 'malware': 3}  \n",
    "\n",
    "# Apply the mapping to the \"type\" column\n",
    "url_data[\"type\"] = url_data[\"type\"].map(label_mapping)  \n",
    "\n",
    "# Display first 10 rows after label conversion\n",
    "print(url_data.head(10))  "
   ]
  },
  {
   "cell_type": "markdown",
   "id": "7bb49570-e58b-4ec1-ac60-9882bd67f34f",
   "metadata": {},
   "source": [
    "# Define Feature Extraction Function"
   ]
  },
  {
   "cell_type": "code",
   "execution_count": 9,
   "id": "283f7062-5b01-4e12-9d8d-0562e7078a10",
   "metadata": {},
   "outputs": [],
   "source": [
    "def extract_feature(url):  \n",
    "    features = {}  \n",
    "\n",
    "    # Feature 1: Length of URL\n",
    "    features[\"length\"] = len(url)  \n",
    "\n",
    "    # Feature 2: Count special characters\n",
    "    special_chars = ['@', '?', '&', '=', '#', '%']\n",
    "    features[\"num_special_chars\"] = sum(url.count(char) for char in special_chars)\n",
    "\n",
    "    # Feature 3: Count subdomains (dots)\n",
    "    features[\"num_subdomain\"] = url.count(\".\")  \n",
    "\n",
    "    # Feature 4: Check if URL uses HTTPS\n",
    "    features[\"is_https\"] = 1 if url.startswith(\"https\") else 0  \n",
    "\n",
    "    # Feature 5: Check if URL contains an IP address\n",
    "    ip_pattern = r'(\\d{1,3}\\.){3}\\d{1,3}'\n",
    "    features[\"contains_ip\"] = 1 if re.search(ip_pattern, url) else 0\n",
    "\n",
    "    # Feature 6: Count digits\n",
    "    features[\"num_digits\"] = sum(char.isdigit() for char in url)\n",
    "\n",
    "    # Feature 7: Count hyphens\n",
    "    features[\"num_hyphens\"] = url.count(\"-\")  \n",
    "\n",
    "    # Feature 8: Count slashes\n",
    "    features[\"num_slashes\"] = url.count(\"/\")  \n",
    "\n",
    "    # New Feature 9: Check for suspicious keywords\n",
    "    suspicious_keywords = [\"login\", \"paypal\", \"bank\", \"secure\", \"account\", \"update\"]\n",
    "    features[\"has_suspicious_keyword\"] = 1 if any(keyword in url.lower() for keyword in suspicious_keywords) else 0\n",
    "\n",
    "    # New Feature 10: Domain length\n",
    "    domain = re.match(r'(?:https?://)?([^/]+)', url)\n",
    "    features[\"domain_length\"] = len(domain.group(1)) if domain else len(url)\n",
    "\n",
    "    return features"
   ]
  },
  {
   "cell_type": "markdown",
   "id": "a214bcd4-6ded-4078-84bc-f4caeb000c49",
   "metadata": {},
   "source": [
    "# Apply Feature Extraction to the Dataset"
   ]
  },
  {
   "cell_type": "code",
   "execution_count": 10,
   "id": "b184504f-c8b0-4ece-947b-2b22e220e024",
   "metadata": {},
   "outputs": [
    {
     "name": "stdout",
     "output_type": "stream",
     "text": [
      "   length  num_special_chars  num_subdomain  is_https  contains_ip  \\\n",
      "0      16                  0              2         0            0   \n",
      "1      35                  0              2         0            0   \n",
      "2      31                  0              2         0            0   \n",
      "3      88                  8              3         0            0   \n",
      "4     235                  6              2         0            0   \n",
      "\n",
      "   num_digits  num_hyphens  num_slashes  has_suspicious_keyword  domain_length  \n",
      "0           0            1            0                       0             16  \n",
      "1           1            0            2                       0             11  \n",
      "2           1            0            3                       0             14  \n",
      "3           7            1            3                       0             21  \n",
      "4          22            1            3                       0             23  \n"
     ]
    }
   ],
   "source": [
    "# Create an empty list to store extracted features\n",
    "features_list = []  \n",
    "\n",
    "# Loop through each URL in the dataset and extract features\n",
    "for url in url_data[\"url\"]:  \n",
    "    extracted_features = extract_feature(url)  # Extract features  \n",
    "    features_list.append(extracted_features)  # Append features to the list  \n",
    "\n",
    "# Convert the list of extracted features into a DataFrame\n",
    "features_df = pd.DataFrame(features_list)  \n",
    "\n",
    "# Display first 5 rows of extracted features\n",
    "print(features_df.head())  "
   ]
  },
  {
   "cell_type": "markdown",
   "id": "7f565dd6-f272-4b22-855d-83e1c439fe7d",
   "metadata": {},
   "source": [
    "# Prepare the Data for Training"
   ]
  },
  {
   "cell_type": "code",
   "execution_count": 11,
   "id": "9710e01d-c3a0-4268-b7b5-104feed4b1e6",
   "metadata": {},
   "outputs": [],
   "source": [
    "# Define target variable (labels)\n",
    "y = url_data[\"type\"]  \n",
    "\n",
    "# Ensure features DataFrame and target variable have the same indices\n",
    "features_df = features_df.loc[y.index]   "
   ]
  },
  {
   "cell_type": "code",
   "execution_count": null,
   "id": "3d7cf60f-5d81-4ff1-b242-13718bc4885a",
   "metadata": {},
   "outputs": [],
   "source": []
  },
  {
   "cell_type": "code",
   "execution_count": 12,
   "id": "fa3d5621-8174-4076-9bc4-dc250c956211",
   "metadata": {},
   "outputs": [],
   "source": [
    "# Split the dataset into training (80%) and testing (20%) sets\n",
    "x_train, x_test, y_train, y_test = train_test_split(features_df, y, test_size=0.2, random_state=42)   "
   ]
  },
  {
   "cell_type": "code",
   "execution_count": 13,
   "id": "0fd525b8-746c-44fb-8776-21f9f3ce76b2",
   "metadata": {},
   "outputs": [
    {
     "name": "stdout",
     "output_type": "stream",
     "text": [
      "Training Features Shape: (520952, 10)\n",
      "Testing Features Shape: (130239, 10)\n",
      "Training Labels Shape: (520952,)\n",
      "Testing Labels Shape: (130239,)\n"
     ]
    }
   ],
   "source": [
    "\n",
    "# Display shapes of training and testing datasets\n",
    "print(\"Training Features Shape:\", x_train.shape)  \n",
    "print(\"Testing Features Shape:\", x_test.shape)  \n",
    "print(\"Training Labels Shape:\", y_train.shape)  \n",
    "print(\"Testing Labels Shape:\", y_test.shape)"
   ]
  },
  {
   "cell_type": "markdown",
   "id": "77e80979-addb-4888-9481-78d974c6f783",
   "metadata": {},
   "source": [
    "# Train Random Forest Classifier"
   ]
  },
  {
   "cell_type": "code",
   "execution_count": null,
   "id": "e00c25db-a3bf-4e55-a490-e2f02ec025f2",
   "metadata": {},
   "outputs": [],
   "source": [
    "# Initialize Random Forest Classifier\n",
    "rf_model = RandomForestClassifier(n_estimators=200, max_depth=None, random_state=42, class_weight=\"balanced\")  \n",
    "\n",
    "# Train the model\n",
    "rf_model.fit(x_train, y_train)  \n",
    "\n",
    "# Make predictions\n",
    "y_pred_rf = rf_model.predict(x_test)  \n",
    "\n",
    "# Display accuracy and classification report\n",
    "print(\"Random Forest Accuracy:\", accuracy_score(y_test, y_pred_rf))  \n",
    "print(classification_report(y_test, y_pred_rf))"
   ]
  },
  {
   "cell_type": "code",
   "execution_count": null,
   "id": "8870fc97-fe18-4581-9539-0b61444b06cf",
   "metadata": {},
   "outputs": [],
   "source": []
  },
  {
   "cell_type": "code",
   "execution_count": null,
   "id": "ab6c0c8f-d946-44e2-b960-fe8af3ce1aba",
   "metadata": {},
   "outputs": [],
   "source": [
    "from sklearn.model_selection import cross_val_score\n",
    "\n",
    "# Perform 5-fold cross-validation\n",
    "scores = cross_val_score(rf_model, features_df, y, cv=5, scoring=\"accuracy\")\n",
    "print(\"Cross-Validation Accuracy Scores:\", scores)\n",
    "print(\"Average CV Accuracy:\", scores.mean())"
   ]
  },
  {
   "cell_type": "code",
   "execution_count": null,
   "id": "8b8c8d25-00d3-46be-92f6-adb54cc97fc6",
   "metadata": {},
   "outputs": [],
   "source": []
  },
  {
   "cell_type": "markdown",
   "id": "a4b26b88-c6af-4947-8848-383d10bfa2e8",
   "metadata": {},
   "source": [
    "# Save the Trained Model"
   ]
  },
  {
   "cell_type": "code",
   "execution_count": null,
   "id": "b2757a45-1835-45c3-9b74-d9eaed82a705",
   "metadata": {},
   "outputs": [],
   "source": [
    "# Save trained model as a .pkl file\n",
    "joblib.dump(rf_model, \"random_forest_model.joblib\")  \n",
    "\n",
    "print(\"Model saved successfully!\")  \n"
   ]
  },
  {
   "cell_type": "markdown",
   "id": "7d6f3d1d-afc9-40e1-b804-2c44db961c9b",
   "metadata": {},
   "source": [
    "# Load the Model for Future Predictions"
   ]
  },
  {
   "cell_type": "code",
   "execution_count": null,
   "id": "5d508d4a-f6db-4e9d-84ef-7c1475bdb00f",
   "metadata": {},
   "outputs": [],
   "source": [
    "# Load the saved model\n",
    "rf_loaded_model = joblib.load(\"random_forest_model.joblib\")\n",
    "print(\"Model loaded successfully!\")"
   ]
  },
  {
   "cell_type": "markdown",
   "id": "1b73975f-e30f-4f22-a3b9-3b6aa64141ba",
   "metadata": {},
   "source": [
    "# Create a Function to Predict Any URL"
   ]
  },
  {
   "cell_type": "code",
   "execution_count": null,
   "id": "c0e9e439-29d9-49b2-8ac1-65560cdb6b35",
   "metadata": {},
   "outputs": [],
   "source": [
    "# Function to predict if a URL is phishing or safe\n",
    "def predict_url(url):  \n",
    "    extracted_features = extract_feature(url)  # Extract features  \n",
    "    feature_df = pd.DataFrame([extracted_features])  # Convert to DataFrame  \n",
    "    prediction = rf_loaded_model.predict(feature_df)[0]  # Get predicted class  \n",
    "\n",
    "    # Map prediction numbers back to category labels\n",
    "    label_mapping_reverse = {0: 'Benign', 1: 'Phishing', 2: 'Defacement', 3: 'Malware'}  \n",
    "    \n",
    "    return label_mapping_reverse[prediction]  # Return prediction label"
   ]
  },
  {
   "cell_type": "markdown",
   "id": "1871c42c-7fd4-4529-96e3-0535546e86d0",
   "metadata": {},
   "source": [
    "# Test with a New URL"
   ]
  },
  {
   "cell_type": "code",
   "execution_count": null,
   "id": "c5f4a9b3-0c53-4951-abfb-cddeda712ade",
   "metadata": {},
   "outputs": [],
   "source": [
    "test_urls = [\n",
    "    \"http://malicious-site.com/paypal-login\",\n",
    "    \"https://www.paypal.com/signin\",\n",
    "    \"http://192.168.1.1/login\",\n",
    "    \"https://example.com\",\n",
    "    \"http://fake-bank.com/account-update\"\n",
    "]\n",
    "\n",
    "for url in test_urls:\n",
    "    prediction = predict_url(url)\n",
    "    print(f\"URL: {url} – Prediction: {prediction}\")"
   ]
  },
  {
   "cell_type": "code",
   "execution_count": null,
   "id": "469cd243-caaa-41c9-962b-b767ed2c7fa4",
   "metadata": {},
   "outputs": [],
   "source": []
  },
  {
   "cell_type": "code",
   "execution_count": null,
   "id": "34d5e8e6-e2e9-4a16-8c1e-4abf6ffc5284",
   "metadata": {},
   "outputs": [],
   "source": []
  },
  {
   "cell_type": "code",
   "execution_count": null,
   "id": "beb477a7-ec2a-4c85-9b22-7ae13f062c98",
   "metadata": {},
   "outputs": [],
   "source": []
  },
  {
   "cell_type": "code",
   "execution_count": null,
   "id": "a550b8f7-b600-43e9-bb00-678941dd7fc8",
   "metadata": {},
   "outputs": [],
   "source": []
  }
 ],
 "metadata": {
  "kernelspec": {
   "display_name": "Python 3 (ipykernel)",
   "language": "python",
   "name": "python3"
  },
  "language_info": {
   "codemirror_mode": {
    "name": "ipython",
    "version": 3
   },
   "file_extension": ".py",
   "mimetype": "text/x-python",
   "name": "python",
   "nbconvert_exporter": "python",
   "pygments_lexer": "ipython3",
   "version": "3.8.10"
  },
  "widgets": {
   "application/vnd.jupyter.widget-state+json": {
    "state": {},
    "version_major": 2,
    "version_minor": 0
   }
  }
 },
 "nbformat": 4,
 "nbformat_minor": 5
}
