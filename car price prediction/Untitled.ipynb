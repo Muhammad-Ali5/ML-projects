{
 "cells": [
  {
   "cell_type": "code",
   "execution_count": 1,
   "id": "b970cb29-cc05-4d76-9eb5-3e92d8e88adc",
   "metadata": {},
   "outputs": [],
   "source": [
    "import pandas as pd \n",
    "import seaborn as sns \n",
    "import matplotlib.pyplot as plt \n",
    "\n",
    "from sklearn.model_selection import train_test_split\n",
    "from sklearn.linear_model import LinearRegression\n",
    "from sklearn.linear_model import Lasso\n",
    "from sklearn.preprocessing import OneHotEncoder\n",
    "from sklearn.metrics import r2_score,accuracy_score "
   ]
  },
  {
   "cell_type": "code",
   "execution_count": 2,
   "id": "22733ce4-8256-4307-b93b-75da0c519093",
   "metadata": {},
   "outputs": [],
   "source": [
    "car_data = pd.read_csv(\"ford.csv\")"
   ]
  },
  {
   "cell_type": "code",
   "execution_count": 3,
   "id": "48836767-1b73-4b07-80cf-7e83208bf367",
   "metadata": {},
   "outputs": [
    {
     "data": {
      "text/html": [
       "<div>\n",
       "<style scoped>\n",
       "    .dataframe tbody tr th:only-of-type {\n",
       "        vertical-align: middle;\n",
       "    }\n",
       "\n",
       "    .dataframe tbody tr th {\n",
       "        vertical-align: top;\n",
       "    }\n",
       "\n",
       "    .dataframe thead th {\n",
       "        text-align: right;\n",
       "    }\n",
       "</style>\n",
       "<table border=\"1\" class=\"dataframe\">\n",
       "  <thead>\n",
       "    <tr style=\"text-align: right;\">\n",
       "      <th></th>\n",
       "      <th>model</th>\n",
       "      <th>year</th>\n",
       "      <th>price</th>\n",
       "      <th>transmission</th>\n",
       "      <th>mileage</th>\n",
       "      <th>fuelType</th>\n",
       "      <th>tax</th>\n",
       "      <th>mpg</th>\n",
       "      <th>engineSize</th>\n",
       "    </tr>\n",
       "  </thead>\n",
       "  <tbody>\n",
       "    <tr>\n",
       "      <th>0</th>\n",
       "      <td>Fiesta</td>\n",
       "      <td>2017</td>\n",
       "      <td>12000</td>\n",
       "      <td>Automatic</td>\n",
       "      <td>15944</td>\n",
       "      <td>Petrol</td>\n",
       "      <td>150</td>\n",
       "      <td>57.7</td>\n",
       "      <td>1.0</td>\n",
       "    </tr>\n",
       "    <tr>\n",
       "      <th>1</th>\n",
       "      <td>Focus</td>\n",
       "      <td>2018</td>\n",
       "      <td>14000</td>\n",
       "      <td>Manual</td>\n",
       "      <td>9083</td>\n",
       "      <td>Petrol</td>\n",
       "      <td>150</td>\n",
       "      <td>57.7</td>\n",
       "      <td>1.0</td>\n",
       "    </tr>\n",
       "    <tr>\n",
       "      <th>2</th>\n",
       "      <td>Focus</td>\n",
       "      <td>2017</td>\n",
       "      <td>13000</td>\n",
       "      <td>Manual</td>\n",
       "      <td>12456</td>\n",
       "      <td>Petrol</td>\n",
       "      <td>150</td>\n",
       "      <td>57.7</td>\n",
       "      <td>1.0</td>\n",
       "    </tr>\n",
       "    <tr>\n",
       "      <th>3</th>\n",
       "      <td>Fiesta</td>\n",
       "      <td>2019</td>\n",
       "      <td>17500</td>\n",
       "      <td>Manual</td>\n",
       "      <td>10460</td>\n",
       "      <td>Petrol</td>\n",
       "      <td>145</td>\n",
       "      <td>40.3</td>\n",
       "      <td>1.5</td>\n",
       "    </tr>\n",
       "    <tr>\n",
       "      <th>4</th>\n",
       "      <td>Fiesta</td>\n",
       "      <td>2019</td>\n",
       "      <td>16500</td>\n",
       "      <td>Automatic</td>\n",
       "      <td>1482</td>\n",
       "      <td>Petrol</td>\n",
       "      <td>145</td>\n",
       "      <td>48.7</td>\n",
       "      <td>1.0</td>\n",
       "    </tr>\n",
       "  </tbody>\n",
       "</table>\n",
       "</div>"
      ],
      "text/plain": [
       "     model  year  price transmission  mileage fuelType  tax   mpg  engineSize\n",
       "0   Fiesta  2017  12000    Automatic    15944   Petrol  150  57.7         1.0\n",
       "1    Focus  2018  14000       Manual     9083   Petrol  150  57.7         1.0\n",
       "2    Focus  2017  13000       Manual    12456   Petrol  150  57.7         1.0\n",
       "3   Fiesta  2019  17500       Manual    10460   Petrol  145  40.3         1.5\n",
       "4   Fiesta  2019  16500    Automatic     1482   Petrol  145  48.7         1.0"
      ]
     },
     "execution_count": 3,
     "metadata": {},
     "output_type": "execute_result"
    }
   ],
   "source": [
    "car_data.head()"
   ]
  },
  {
   "cell_type": "code",
   "execution_count": 4,
   "id": "d5f4ec4c-d778-48ef-90b8-c10475b4a946",
   "metadata": {},
   "outputs": [
    {
     "data": {
      "text/plain": [
       "(17966, 9)"
      ]
     },
     "execution_count": 4,
     "metadata": {},
     "output_type": "execute_result"
    }
   ],
   "source": [
    "car_data.shape"
   ]
  },
  {
   "cell_type": "code",
   "execution_count": 5,
   "id": "901d77e7-be3d-487b-b0f8-6ad9573d3b57",
   "metadata": {},
   "outputs": [
    {
     "name": "stdout",
     "output_type": "stream",
     "text": [
      "<class 'pandas.core.frame.DataFrame'>\n",
      "RangeIndex: 17966 entries, 0 to 17965\n",
      "Data columns (total 9 columns):\n",
      " #   Column        Non-Null Count  Dtype  \n",
      "---  ------        --------------  -----  \n",
      " 0   model         17966 non-null  object \n",
      " 1   year          17966 non-null  int64  \n",
      " 2   price         17966 non-null  int64  \n",
      " 3   transmission  17966 non-null  object \n",
      " 4   mileage       17966 non-null  int64  \n",
      " 5   fuelType      17966 non-null  object \n",
      " 6   tax           17966 non-null  int64  \n",
      " 7   mpg           17966 non-null  float64\n",
      " 8   engineSize    17966 non-null  float64\n",
      "dtypes: float64(2), int64(4), object(3)\n",
      "memory usage: 1.2+ MB\n"
     ]
    }
   ],
   "source": [
    "car_data.info()"
   ]
  },
  {
   "cell_type": "code",
   "execution_count": 6,
   "id": "63ac4fad-4d29-488c-990f-f699c2366cca",
   "metadata": {},
   "outputs": [
    {
     "data": {
      "text/plain": [
       "model           0\n",
       "year            0\n",
       "price           0\n",
       "transmission    0\n",
       "mileage         0\n",
       "fuelType        0\n",
       "tax             0\n",
       "mpg             0\n",
       "engineSize      0\n",
       "dtype: int64"
      ]
     },
     "execution_count": 6,
     "metadata": {},
     "output_type": "execute_result"
    }
   ],
   "source": [
    "car_data.isnull().sum()"
   ]
  },
  {
   "cell_type": "code",
   "execution_count": 7,
   "id": "427092df-e652-41dd-9f91-30c635533680",
   "metadata": {},
   "outputs": [
    {
     "data": {
      "text/html": [
       "<div>\n",
       "<style scoped>\n",
       "    .dataframe tbody tr th:only-of-type {\n",
       "        vertical-align: middle;\n",
       "    }\n",
       "\n",
       "    .dataframe tbody tr th {\n",
       "        vertical-align: top;\n",
       "    }\n",
       "\n",
       "    .dataframe thead th {\n",
       "        text-align: right;\n",
       "    }\n",
       "</style>\n",
       "<table border=\"1\" class=\"dataframe\">\n",
       "  <thead>\n",
       "    <tr style=\"text-align: right;\">\n",
       "      <th></th>\n",
       "      <th>year</th>\n",
       "      <th>price</th>\n",
       "      <th>mileage</th>\n",
       "      <th>tax</th>\n",
       "      <th>mpg</th>\n",
       "      <th>engineSize</th>\n",
       "    </tr>\n",
       "  </thead>\n",
       "  <tbody>\n",
       "    <tr>\n",
       "      <th>count</th>\n",
       "      <td>17966.000000</td>\n",
       "      <td>17966.000000</td>\n",
       "      <td>17966.000000</td>\n",
       "      <td>17966.000000</td>\n",
       "      <td>17966.000000</td>\n",
       "      <td>17966.000000</td>\n",
       "    </tr>\n",
       "    <tr>\n",
       "      <th>mean</th>\n",
       "      <td>2016.866470</td>\n",
       "      <td>12279.534844</td>\n",
       "      <td>23362.608761</td>\n",
       "      <td>113.329456</td>\n",
       "      <td>57.906980</td>\n",
       "      <td>1.350807</td>\n",
       "    </tr>\n",
       "    <tr>\n",
       "      <th>std</th>\n",
       "      <td>2.050336</td>\n",
       "      <td>4741.343657</td>\n",
       "      <td>19472.054349</td>\n",
       "      <td>62.012456</td>\n",
       "      <td>10.125696</td>\n",
       "      <td>0.432367</td>\n",
       "    </tr>\n",
       "    <tr>\n",
       "      <th>min</th>\n",
       "      <td>1996.000000</td>\n",
       "      <td>495.000000</td>\n",
       "      <td>1.000000</td>\n",
       "      <td>0.000000</td>\n",
       "      <td>20.800000</td>\n",
       "      <td>0.000000</td>\n",
       "    </tr>\n",
       "    <tr>\n",
       "      <th>25%</th>\n",
       "      <td>2016.000000</td>\n",
       "      <td>8999.000000</td>\n",
       "      <td>9987.000000</td>\n",
       "      <td>30.000000</td>\n",
       "      <td>52.300000</td>\n",
       "      <td>1.000000</td>\n",
       "    </tr>\n",
       "    <tr>\n",
       "      <th>50%</th>\n",
       "      <td>2017.000000</td>\n",
       "      <td>11291.000000</td>\n",
       "      <td>18242.500000</td>\n",
       "      <td>145.000000</td>\n",
       "      <td>58.900000</td>\n",
       "      <td>1.200000</td>\n",
       "    </tr>\n",
       "    <tr>\n",
       "      <th>75%</th>\n",
       "      <td>2018.000000</td>\n",
       "      <td>15299.000000</td>\n",
       "      <td>31060.000000</td>\n",
       "      <td>145.000000</td>\n",
       "      <td>65.700000</td>\n",
       "      <td>1.500000</td>\n",
       "    </tr>\n",
       "    <tr>\n",
       "      <th>max</th>\n",
       "      <td>2060.000000</td>\n",
       "      <td>54995.000000</td>\n",
       "      <td>177644.000000</td>\n",
       "      <td>580.000000</td>\n",
       "      <td>201.800000</td>\n",
       "      <td>5.000000</td>\n",
       "    </tr>\n",
       "  </tbody>\n",
       "</table>\n",
       "</div>"
      ],
      "text/plain": [
       "               year         price        mileage           tax           mpg  \\\n",
       "count  17966.000000  17966.000000   17966.000000  17966.000000  17966.000000   \n",
       "mean    2016.866470  12279.534844   23362.608761    113.329456     57.906980   \n",
       "std        2.050336   4741.343657   19472.054349     62.012456     10.125696   \n",
       "min     1996.000000    495.000000       1.000000      0.000000     20.800000   \n",
       "25%     2016.000000   8999.000000    9987.000000     30.000000     52.300000   \n",
       "50%     2017.000000  11291.000000   18242.500000    145.000000     58.900000   \n",
       "75%     2018.000000  15299.000000   31060.000000    145.000000     65.700000   \n",
       "max     2060.000000  54995.000000  177644.000000    580.000000    201.800000   \n",
       "\n",
       "         engineSize  \n",
       "count  17966.000000  \n",
       "mean       1.350807  \n",
       "std        0.432367  \n",
       "min        0.000000  \n",
       "25%        1.000000  \n",
       "50%        1.200000  \n",
       "75%        1.500000  \n",
       "max        5.000000  "
      ]
     },
     "execution_count": 7,
     "metadata": {},
     "output_type": "execute_result"
    }
   ],
   "source": [
    "car_data.describe()"
   ]
  },
  {
   "cell_type": "code",
   "execution_count": 8,
   "id": "1334590f-5e32-4885-9ab6-9be39a2c9daf",
   "metadata": {},
   "outputs": [
    {
     "name": "stdout",
     "output_type": "stream",
     "text": [
      "fuelType\n",
      "Petrol      12179\n",
      "Diesel       5762\n",
      "Hybrid         22\n",
      "Electric        2\n",
      "Other           1\n",
      "Name: count, dtype: int64\n",
      "['Petrol' 'Diesel' 'Hybrid' 'Electric' 'Other']\n"
     ]
    }
   ],
   "source": [
    "# checking hte distribution of categorical dataa\n",
    "print(car_data.fuelType.value_counts())\n",
    "print(car_data.fuelType.unique())"
   ]
  },
  {
   "cell_type": "code",
   "execution_count": 9,
   "id": "e48ba2f0-b800-4a78-9833-bd0c4c99b9d7",
   "metadata": {},
   "outputs": [
    {
     "name": "stdout",
     "output_type": "stream",
     "text": [
      "transmission\n",
      "Manual       15518\n",
      "Automatic     1361\n",
      "Semi-Auto     1087\n",
      "Name: count, dtype: int64\n",
      "['Automatic' 'Manual' 'Semi-Auto']\n"
     ]
    }
   ],
   "source": [
    "print(car_data.transmission.value_counts())\n",
    "print(car_data.transmission.unique())"
   ]
  },
  {
   "cell_type": "code",
   "execution_count": 10,
   "id": "ae7d59a5-edec-4f7f-94e5-ea93bc29a660",
   "metadata": {},
   "outputs": [
    {
     "name": "stdout",
     "output_type": "stream",
     "text": [
      "model\n",
      " Fiesta                   6557\n",
      " Focus                    4588\n",
      " Kuga                     2225\n",
      " EcoSport                 1143\n",
      " C-MAX                     543\n",
      " Ka+                       531\n",
      " Mondeo                    526\n",
      " B-MAX                     355\n",
      " S-MAX                     296\n",
      " Grand C-MAX               247\n",
      " Galaxy                    228\n",
      " Edge                      208\n",
      " KA                        199\n",
      " Puma                       80\n",
      " Tourneo Custom             69\n",
      " Grand Tourneo Connect      59\n",
      " Mustang                    57\n",
      " Tourneo Connect            33\n",
      " Fusion                     16\n",
      " Streetka                    2\n",
      " Ranger                      1\n",
      " Escort                      1\n",
      " Transit Tourneo             1\n",
      "Focus                        1\n",
      "Name: count, dtype: int64\n",
      "[' Fiesta' ' Focus' ' Puma' ' Kuga' ' EcoSport' ' C-MAX' ' Mondeo' ' Ka+'\n",
      " ' Tourneo Custom' ' S-MAX' ' B-MAX' ' Edge' ' Tourneo Connect'\n",
      " ' Grand C-MAX' ' KA' ' Galaxy' ' Mustang' ' Grand Tourneo Connect'\n",
      " ' Fusion' ' Ranger' ' Streetka' ' Escort' ' Transit Tourneo' 'Focus']\n"
     ]
    }
   ],
   "source": [
    "print(car_data.model.value_counts())\n",
    "print(car_data.model.unique())"
   ]
  },
  {
   "cell_type": "code",
   "execution_count": 11,
   "id": "6164c147-be22-4b8a-8abb-7e62520b4d10",
   "metadata": {},
   "outputs": [],
   "source": [
    "# splitting numerical and catagorical \n",
    "categorical_columns = [\"model\", \"transmission\", \"fuelType\"]\n",
    "numerical_columns = [\"year\", \"mileage\", \"tax\", \"mpg\", \"engineSize\"]"
   ]
  },
  {
   "cell_type": "markdown",
   "id": "9dde1071-3d37-41d3-b4b8-2e414638064e",
   "metadata": {},
   "source": [
    "# Encoding"
   ]
  },
  {
   "cell_type": "code",
   "execution_count": 12,
   "id": "bd353321-a874-4145-9b24-04eda96728ba",
   "metadata": {},
   "outputs": [],
   "source": [
    "# Enocoding\n",
    "ohe = OneHotEncoder(sparse_output=False, drop=\"first\")\n",
    "encoded_array = ohe.fit_transform(car_data[categorical_columns])\n",
    "\n",
    "# convert to the datafram \n",
    "encoded_df = pd.DataFrame(encoded_array, columns=ohe.get_feature_names_out(categorical_columns))\n",
    "\n",
    "# merge data to the original \n",
    "car_data = pd.concat([car_data, encoded_df], axis=1).drop(columns=categorical_columns)\n"
   ]
  },
  {
   "cell_type": "markdown",
   "id": "39484630-8cbd-40f2-aa13-41bfb4d5e744",
   "metadata": {},
   "source": [
    "# save Encoded model"
   ]
  },
  {
   "cell_type": "code",
   "execution_count": 35,
   "id": "c1da1b8a-837f-4589-bf0c-922ecd613db9",
   "metadata": {},
   "outputs": [
    {
     "data": {
      "text/plain": [
       "['encoder.joblib']"
      ]
     },
     "execution_count": 35,
     "metadata": {},
     "output_type": "execute_result"
    }
   ],
   "source": [
    "import joblib\n",
    "joblib.dump(ohe, \"encoder.joblib\")"
   ]
  },
  {
   "cell_type": "code",
   "execution_count": 38,
   "id": "2994968c-0e25-4a3a-ba38-6b623c3d6b9e",
   "metadata": {},
   "outputs": [
    {
     "name": "stdout",
     "output_type": "stream",
     "text": [
      "Model categories: [' B-MAX' ' C-MAX' ' EcoSport' ' Edge' ' Escort' ' Fiesta' ' Focus'\n",
      " ' Fusion' ' Galaxy' ' Grand C-MAX' ' Grand Tourneo Connect' ' KA' ' Ka+'\n",
      " ' Kuga' ' Mondeo' ' Mustang' ' Puma' ' Ranger' ' S-MAX' ' Streetka'\n",
      " ' Tourneo Connect' ' Tourneo Custom' ' Transit Tourneo' 'Focus']\n",
      "Transmission categories: ['Automatic' 'Manual' 'Semi-Auto']\n",
      "Fuel Type categories: ['Diesel' 'Electric' 'Hybrid' 'Other' 'Petrol']\n"
     ]
    }
   ],
   "source": [
    "import joblib\n",
    "\n",
    "# Load encoder\n",
    "encoder = joblib.load(\"encoder.joblib\")\n",
    "\n",
    "# Print categories\n",
    "print(\"Model categories:\", encoder.categories_[0])\n",
    "print(\"Transmission categories:\", encoder.categories_[1])\n",
    "print(\"Fuel Type categories:\", encoder.categories_[2])"
   ]
  },
  {
   "cell_type": "code",
   "execution_count": null,
   "id": "154d5f3a-5061-4cc5-986c-659ea417e3b7",
   "metadata": {},
   "outputs": [],
   "source": []
  },
  {
   "cell_type": "code",
   "execution_count": 13,
   "id": "d1181735-adea-4550-acfc-cad0ad2a8b27",
   "metadata": {},
   "outputs": [],
   "source": [
    "# splitiing \n",
    "y = car_data[\"price\"]\n",
    "x = car_data.drop(columns=[\"price\"], errors=\"ignore\")"
   ]
  },
  {
   "cell_type": "code",
   "execution_count": 14,
   "id": "f6cdb68c-450b-4a0f-ae3c-446d9e03b236",
   "metadata": {},
   "outputs": [
    {
     "name": "stdout",
     "output_type": "stream",
     "text": [
      "Index(['year', 'price', 'mileage', 'tax', 'mpg', 'engineSize', 'model_ C-MAX',\n",
      "       'model_ EcoSport', 'model_ Edge', 'model_ Escort', 'model_ Fiesta',\n",
      "       'model_ Focus', 'model_ Fusion', 'model_ Galaxy', 'model_ Grand C-MAX',\n",
      "       'model_ Grand Tourneo Connect', 'model_ KA', 'model_ Ka+',\n",
      "       'model_ Kuga', 'model_ Mondeo', 'model_ Mustang', 'model_ Puma',\n",
      "       'model_ Ranger', 'model_ S-MAX', 'model_ Streetka',\n",
      "       'model_ Tourneo Connect', 'model_ Tourneo Custom',\n",
      "       'model_ Transit Tourneo', 'model_Focus', 'transmission_Manual',\n",
      "       'transmission_Semi-Auto', 'fuelType_Electric', 'fuelType_Hybrid',\n",
      "       'fuelType_Other', 'fuelType_Petrol'],\n",
      "      dtype='object')\n"
     ]
    }
   ],
   "source": [
    "print(car_data.columns)"
   ]
  },
  {
   "cell_type": "code",
   "execution_count": 15,
   "id": "d06c5adb-fb6d-4ff5-9fa2-e65e8399bb8f",
   "metadata": {},
   "outputs": [
    {
     "name": "stdout",
     "output_type": "stream",
     "text": [
      "   year  price  mileage  tax   mpg  engineSize  model_ C-MAX  model_ EcoSport  \\\n",
      "0  2017  12000    15944  150  57.7         1.0           0.0              0.0   \n",
      "1  2018  14000     9083  150  57.7         1.0           0.0              0.0   \n",
      "2  2017  13000    12456  150  57.7         1.0           0.0              0.0   \n",
      "3  2019  17500    10460  145  40.3         1.5           0.0              0.0   \n",
      "4  2019  16500     1482  145  48.7         1.0           0.0              0.0   \n",
      "\n",
      "   model_ Edge  model_ Escort  ...  model_ Tourneo Connect  \\\n",
      "0          0.0            0.0  ...                     0.0   \n",
      "1          0.0            0.0  ...                     0.0   \n",
      "2          0.0            0.0  ...                     0.0   \n",
      "3          0.0            0.0  ...                     0.0   \n",
      "4          0.0            0.0  ...                     0.0   \n",
      "\n",
      "   model_ Tourneo Custom  model_ Transit Tourneo  model_Focus  \\\n",
      "0                    0.0                     0.0          0.0   \n",
      "1                    0.0                     0.0          0.0   \n",
      "2                    0.0                     0.0          0.0   \n",
      "3                    0.0                     0.0          0.0   \n",
      "4                    0.0                     0.0          0.0   \n",
      "\n",
      "   transmission_Manual  transmission_Semi-Auto  fuelType_Electric  \\\n",
      "0                  0.0                     0.0                0.0   \n",
      "1                  1.0                     0.0                0.0   \n",
      "2                  1.0                     0.0                0.0   \n",
      "3                  1.0                     0.0                0.0   \n",
      "4                  0.0                     0.0                0.0   \n",
      "\n",
      "   fuelType_Hybrid  fuelType_Other  fuelType_Petrol  \n",
      "0              0.0             0.0              1.0  \n",
      "1              0.0             0.0              1.0  \n",
      "2              0.0             0.0              1.0  \n",
      "3              0.0             0.0              1.0  \n",
      "4              0.0             0.0              1.0  \n",
      "\n",
      "[5 rows x 35 columns]\n"
     ]
    }
   ],
   "source": [
    "print(car_data.head())  # Check if \"price\" exists"
   ]
  },
  {
   "cell_type": "code",
   "execution_count": 16,
   "id": "e4e92935-45df-4b81-ab9f-22c26fff955d",
   "metadata": {},
   "outputs": [
    {
     "data": {
      "text/html": [
       "<div>\n",
       "<style scoped>\n",
       "    .dataframe tbody tr th:only-of-type {\n",
       "        vertical-align: middle;\n",
       "    }\n",
       "\n",
       "    .dataframe tbody tr th {\n",
       "        vertical-align: top;\n",
       "    }\n",
       "\n",
       "    .dataframe thead th {\n",
       "        text-align: right;\n",
       "    }\n",
       "</style>\n",
       "<table border=\"1\" class=\"dataframe\">\n",
       "  <thead>\n",
       "    <tr style=\"text-align: right;\">\n",
       "      <th></th>\n",
       "      <th>year</th>\n",
       "      <th>price</th>\n",
       "      <th>mileage</th>\n",
       "      <th>tax</th>\n",
       "      <th>mpg</th>\n",
       "      <th>engineSize</th>\n",
       "      <th>model_ C-MAX</th>\n",
       "      <th>model_ EcoSport</th>\n",
       "      <th>model_ Edge</th>\n",
       "      <th>model_ Escort</th>\n",
       "      <th>...</th>\n",
       "      <th>model_ Tourneo Connect</th>\n",
       "      <th>model_ Tourneo Custom</th>\n",
       "      <th>model_ Transit Tourneo</th>\n",
       "      <th>model_Focus</th>\n",
       "      <th>transmission_Manual</th>\n",
       "      <th>transmission_Semi-Auto</th>\n",
       "      <th>fuelType_Electric</th>\n",
       "      <th>fuelType_Hybrid</th>\n",
       "      <th>fuelType_Other</th>\n",
       "      <th>fuelType_Petrol</th>\n",
       "    </tr>\n",
       "  </thead>\n",
       "  <tbody>\n",
       "    <tr>\n",
       "      <th>0</th>\n",
       "      <td>2017</td>\n",
       "      <td>12000</td>\n",
       "      <td>15944</td>\n",
       "      <td>150</td>\n",
       "      <td>57.7</td>\n",
       "      <td>1.0</td>\n",
       "      <td>0.0</td>\n",
       "      <td>0.0</td>\n",
       "      <td>0.0</td>\n",
       "      <td>0.0</td>\n",
       "      <td>...</td>\n",
       "      <td>0.0</td>\n",
       "      <td>0.0</td>\n",
       "      <td>0.0</td>\n",
       "      <td>0.0</td>\n",
       "      <td>0.0</td>\n",
       "      <td>0.0</td>\n",
       "      <td>0.0</td>\n",
       "      <td>0.0</td>\n",
       "      <td>0.0</td>\n",
       "      <td>1.0</td>\n",
       "    </tr>\n",
       "    <tr>\n",
       "      <th>1</th>\n",
       "      <td>2018</td>\n",
       "      <td>14000</td>\n",
       "      <td>9083</td>\n",
       "      <td>150</td>\n",
       "      <td>57.7</td>\n",
       "      <td>1.0</td>\n",
       "      <td>0.0</td>\n",
       "      <td>0.0</td>\n",
       "      <td>0.0</td>\n",
       "      <td>0.0</td>\n",
       "      <td>...</td>\n",
       "      <td>0.0</td>\n",
       "      <td>0.0</td>\n",
       "      <td>0.0</td>\n",
       "      <td>0.0</td>\n",
       "      <td>1.0</td>\n",
       "      <td>0.0</td>\n",
       "      <td>0.0</td>\n",
       "      <td>0.0</td>\n",
       "      <td>0.0</td>\n",
       "      <td>1.0</td>\n",
       "    </tr>\n",
       "    <tr>\n",
       "      <th>2</th>\n",
       "      <td>2017</td>\n",
       "      <td>13000</td>\n",
       "      <td>12456</td>\n",
       "      <td>150</td>\n",
       "      <td>57.7</td>\n",
       "      <td>1.0</td>\n",
       "      <td>0.0</td>\n",
       "      <td>0.0</td>\n",
       "      <td>0.0</td>\n",
       "      <td>0.0</td>\n",
       "      <td>...</td>\n",
       "      <td>0.0</td>\n",
       "      <td>0.0</td>\n",
       "      <td>0.0</td>\n",
       "      <td>0.0</td>\n",
       "      <td>1.0</td>\n",
       "      <td>0.0</td>\n",
       "      <td>0.0</td>\n",
       "      <td>0.0</td>\n",
       "      <td>0.0</td>\n",
       "      <td>1.0</td>\n",
       "    </tr>\n",
       "    <tr>\n",
       "      <th>3</th>\n",
       "      <td>2019</td>\n",
       "      <td>17500</td>\n",
       "      <td>10460</td>\n",
       "      <td>145</td>\n",
       "      <td>40.3</td>\n",
       "      <td>1.5</td>\n",
       "      <td>0.0</td>\n",
       "      <td>0.0</td>\n",
       "      <td>0.0</td>\n",
       "      <td>0.0</td>\n",
       "      <td>...</td>\n",
       "      <td>0.0</td>\n",
       "      <td>0.0</td>\n",
       "      <td>0.0</td>\n",
       "      <td>0.0</td>\n",
       "      <td>1.0</td>\n",
       "      <td>0.0</td>\n",
       "      <td>0.0</td>\n",
       "      <td>0.0</td>\n",
       "      <td>0.0</td>\n",
       "      <td>1.0</td>\n",
       "    </tr>\n",
       "    <tr>\n",
       "      <th>4</th>\n",
       "      <td>2019</td>\n",
       "      <td>16500</td>\n",
       "      <td>1482</td>\n",
       "      <td>145</td>\n",
       "      <td>48.7</td>\n",
       "      <td>1.0</td>\n",
       "      <td>0.0</td>\n",
       "      <td>0.0</td>\n",
       "      <td>0.0</td>\n",
       "      <td>0.0</td>\n",
       "      <td>...</td>\n",
       "      <td>0.0</td>\n",
       "      <td>0.0</td>\n",
       "      <td>0.0</td>\n",
       "      <td>0.0</td>\n",
       "      <td>0.0</td>\n",
       "      <td>0.0</td>\n",
       "      <td>0.0</td>\n",
       "      <td>0.0</td>\n",
       "      <td>0.0</td>\n",
       "      <td>1.0</td>\n",
       "    </tr>\n",
       "  </tbody>\n",
       "</table>\n",
       "<p>5 rows × 35 columns</p>\n",
       "</div>"
      ],
      "text/plain": [
       "   year  price  mileage  tax   mpg  engineSize  model_ C-MAX  model_ EcoSport  \\\n",
       "0  2017  12000    15944  150  57.7         1.0           0.0              0.0   \n",
       "1  2018  14000     9083  150  57.7         1.0           0.0              0.0   \n",
       "2  2017  13000    12456  150  57.7         1.0           0.0              0.0   \n",
       "3  2019  17500    10460  145  40.3         1.5           0.0              0.0   \n",
       "4  2019  16500     1482  145  48.7         1.0           0.0              0.0   \n",
       "\n",
       "   model_ Edge  model_ Escort  ...  model_ Tourneo Connect  \\\n",
       "0          0.0            0.0  ...                     0.0   \n",
       "1          0.0            0.0  ...                     0.0   \n",
       "2          0.0            0.0  ...                     0.0   \n",
       "3          0.0            0.0  ...                     0.0   \n",
       "4          0.0            0.0  ...                     0.0   \n",
       "\n",
       "   model_ Tourneo Custom  model_ Transit Tourneo  model_Focus  \\\n",
       "0                    0.0                     0.0          0.0   \n",
       "1                    0.0                     0.0          0.0   \n",
       "2                    0.0                     0.0          0.0   \n",
       "3                    0.0                     0.0          0.0   \n",
       "4                    0.0                     0.0          0.0   \n",
       "\n",
       "   transmission_Manual  transmission_Semi-Auto  fuelType_Electric  \\\n",
       "0                  0.0                     0.0                0.0   \n",
       "1                  1.0                     0.0                0.0   \n",
       "2                  1.0                     0.0                0.0   \n",
       "3                  1.0                     0.0                0.0   \n",
       "4                  0.0                     0.0                0.0   \n",
       "\n",
       "   fuelType_Hybrid  fuelType_Other  fuelType_Petrol  \n",
       "0              0.0             0.0              1.0  \n",
       "1              0.0             0.0              1.0  \n",
       "2              0.0             0.0              1.0  \n",
       "3              0.0             0.0              1.0  \n",
       "4              0.0             0.0              1.0  \n",
       "\n",
       "[5 rows x 35 columns]"
      ]
     },
     "execution_count": 16,
     "metadata": {},
     "output_type": "execute_result"
    }
   ],
   "source": [
    "car_data.head()"
   ]
  },
  {
   "cell_type": "code",
   "execution_count": 17,
   "id": "1301a3db-51c6-47ef-ad7f-314164aea2d2",
   "metadata": {},
   "outputs": [],
   "source": [
    "#  train test splitting \n",
    "x_train,x_test, y_train, y_test = train_test_split(x, y, test_size=0.2, random_state=42)"
   ]
  },
  {
   "cell_type": "markdown",
   "id": "571749f9-0504-4fbb-8515-0f711c1dde0c",
   "metadata": {},
   "source": [
    "# linear Regression MOdel "
   ]
  },
  {
   "cell_type": "code",
   "execution_count": 18,
   "id": "499c8f1e-d1d9-4bdf-8d2b-f1579667c4cf",
   "metadata": {},
   "outputs": [],
   "source": [
    "lin_reg = LinearRegression()"
   ]
  },
  {
   "cell_type": "code",
   "execution_count": 19,
   "id": "4f58a38f-d350-436c-a08e-e0536aa7b9cf",
   "metadata": {},
   "outputs": [
    {
     "data": {
      "text/html": [
       "<style>#sk-container-id-1 {color: black;}#sk-container-id-1 pre{padding: 0;}#sk-container-id-1 div.sk-toggleable {background-color: white;}#sk-container-id-1 label.sk-toggleable__label {cursor: pointer;display: block;width: 100%;margin-bottom: 0;padding: 0.3em;box-sizing: border-box;text-align: center;}#sk-container-id-1 label.sk-toggleable__label-arrow:before {content: \"▸\";float: left;margin-right: 0.25em;color: #696969;}#sk-container-id-1 label.sk-toggleable__label-arrow:hover:before {color: black;}#sk-container-id-1 div.sk-estimator:hover label.sk-toggleable__label-arrow:before {color: black;}#sk-container-id-1 div.sk-toggleable__content {max-height: 0;max-width: 0;overflow: hidden;text-align: left;background-color: #f0f8ff;}#sk-container-id-1 div.sk-toggleable__content pre {margin: 0.2em;color: black;border-radius: 0.25em;background-color: #f0f8ff;}#sk-container-id-1 input.sk-toggleable__control:checked~div.sk-toggleable__content {max-height: 200px;max-width: 100%;overflow: auto;}#sk-container-id-1 input.sk-toggleable__control:checked~label.sk-toggleable__label-arrow:before {content: \"▾\";}#sk-container-id-1 div.sk-estimator input.sk-toggleable__control:checked~label.sk-toggleable__label {background-color: #d4ebff;}#sk-container-id-1 div.sk-label input.sk-toggleable__control:checked~label.sk-toggleable__label {background-color: #d4ebff;}#sk-container-id-1 input.sk-hidden--visually {border: 0;clip: rect(1px 1px 1px 1px);clip: rect(1px, 1px, 1px, 1px);height: 1px;margin: -1px;overflow: hidden;padding: 0;position: absolute;width: 1px;}#sk-container-id-1 div.sk-estimator {font-family: monospace;background-color: #f0f8ff;border: 1px dotted black;border-radius: 0.25em;box-sizing: border-box;margin-bottom: 0.5em;}#sk-container-id-1 div.sk-estimator:hover {background-color: #d4ebff;}#sk-container-id-1 div.sk-parallel-item::after {content: \"\";width: 100%;border-bottom: 1px solid gray;flex-grow: 1;}#sk-container-id-1 div.sk-label:hover label.sk-toggleable__label {background-color: #d4ebff;}#sk-container-id-1 div.sk-serial::before {content: \"\";position: absolute;border-left: 1px solid gray;box-sizing: border-box;top: 0;bottom: 0;left: 50%;z-index: 0;}#sk-container-id-1 div.sk-serial {display: flex;flex-direction: column;align-items: center;background-color: white;padding-right: 0.2em;padding-left: 0.2em;position: relative;}#sk-container-id-1 div.sk-item {position: relative;z-index: 1;}#sk-container-id-1 div.sk-parallel {display: flex;align-items: stretch;justify-content: center;background-color: white;position: relative;}#sk-container-id-1 div.sk-item::before, #sk-container-id-1 div.sk-parallel-item::before {content: \"\";position: absolute;border-left: 1px solid gray;box-sizing: border-box;top: 0;bottom: 0;left: 50%;z-index: -1;}#sk-container-id-1 div.sk-parallel-item {display: flex;flex-direction: column;z-index: 1;position: relative;background-color: white;}#sk-container-id-1 div.sk-parallel-item:first-child::after {align-self: flex-end;width: 50%;}#sk-container-id-1 div.sk-parallel-item:last-child::after {align-self: flex-start;width: 50%;}#sk-container-id-1 div.sk-parallel-item:only-child::after {width: 0;}#sk-container-id-1 div.sk-dashed-wrapped {border: 1px dashed gray;margin: 0 0.4em 0.5em 0.4em;box-sizing: border-box;padding-bottom: 0.4em;background-color: white;}#sk-container-id-1 div.sk-label label {font-family: monospace;font-weight: bold;display: inline-block;line-height: 1.2em;}#sk-container-id-1 div.sk-label-container {text-align: center;}#sk-container-id-1 div.sk-container {/* jupyter's `normalize.less` sets `[hidden] { display: none; }` but bootstrap.min.css set `[hidden] { display: none !important; }` so we also need the `!important` here to be able to override the default hidden behavior on the sphinx rendered scikit-learn.org. See: https://github.com/scikit-learn/scikit-learn/issues/21755 */display: inline-block !important;position: relative;}#sk-container-id-1 div.sk-text-repr-fallback {display: none;}</style><div id=\"sk-container-id-1\" class=\"sk-top-container\"><div class=\"sk-text-repr-fallback\"><pre>LinearRegression()</pre><b>In a Jupyter environment, please rerun this cell to show the HTML representation or trust the notebook. <br />On GitHub, the HTML representation is unable to render, please try loading this page with nbviewer.org.</b></div><div class=\"sk-container\" hidden><div class=\"sk-item\"><div class=\"sk-estimator sk-toggleable\"><input class=\"sk-toggleable__control sk-hidden--visually\" id=\"sk-estimator-id-1\" type=\"checkbox\" checked><label for=\"sk-estimator-id-1\" class=\"sk-toggleable__label sk-toggleable__label-arrow\">LinearRegression</label><div class=\"sk-toggleable__content\"><pre>LinearRegression()</pre></div></div></div></div></div>"
      ],
      "text/plain": [
       "LinearRegression()"
      ]
     },
     "execution_count": 19,
     "metadata": {},
     "output_type": "execute_result"
    }
   ],
   "source": [
    "lin_reg.fit(x_train, y_train)"
   ]
  },
  {
   "cell_type": "markdown",
   "id": "e50c4291-d5a1-4f21-a0a1-32c11a9146d1",
   "metadata": {},
   "source": [
    "# model evaluation"
   ]
  },
  {
   "cell_type": "code",
   "execution_count": 20,
   "id": "c85b5b98-4eb5-4e04-9cd3-75c0cff205f0",
   "metadata": {},
   "outputs": [],
   "source": [
    "# tarinig data prediction \n",
    "train_data_pred = lin_reg.predict(x_train)\n",
    "train_data_accuracy = r2_score(train_data_pred, y_train)"
   ]
  },
  {
   "cell_type": "code",
   "execution_count": 21,
   "id": "ee100622-bb2e-4d65-805e-06e217559c04",
   "metadata": {},
   "outputs": [
    {
     "name": "stdout",
     "output_type": "stream",
     "text": [
      "Accracy of train data :  0.8124615110726525\n"
     ]
    }
   ],
   "source": [
    "print(\"Accracy of train data : \",train_data_accuracy)"
   ]
  },
  {
   "cell_type": "code",
   "execution_count": 22,
   "id": "9b635daf-e7cc-4f5a-ad89-c0a89341cb8f",
   "metadata": {},
   "outputs": [
    {
     "name": "stdout",
     "output_type": "stream",
     "text": [
      "R squared Error :  81.24615110726525\n"
     ]
    }
   ],
   "source": [
    "# R square error  \n",
    "error_score = r2_score(train_data_pred, y_train)\n",
    "print(\"R squared Error : \", error_score*100)"
   ]
  },
  {
   "cell_type": "markdown",
   "id": "37c0cbfc-1c67-40ef-9dc6-836c852f15ae",
   "metadata": {},
   "source": [
    "# Actual visualization "
   ]
  },
  {
   "cell_type": "code",
   "execution_count": 23,
   "id": "7334c55c-2d2a-461b-9ec1-422fa97c7b30",
   "metadata": {},
   "outputs": [
    {
     "data": {
      "image/png": "[encoded data removed]",
      "text/plain": [
       "<Figure size 640x480 with 1 Axes>"
      ]
     },
     "metadata": {},
     "output_type": "display_data"
    }
   ],
   "source": [
    "plt.scatter(train_data_pred, y_train)\n",
    "plt.xlabel(\"Acutal price \")\n",
    "plt.ylabel(\"Predicted\")\n",
    "plt.title(\"Actual prices VS Predicted prices\")\n",
    "plt.show()"
   ]
  },
  {
   "cell_type": "code",
   "execution_count": 24,
   "id": "bd70958c-4101-4279-b405-a02078927f96",
   "metadata": {},
   "outputs": [],
   "source": [
    "# test data accuracyabs \n",
    "test_data_pred = lin_reg.predict(x_test)"
   ]
  },
  {
   "cell_type": "code",
   "execution_count": 25,
   "id": "d08713d5-2094-4222-aa32-aa8164bacd37",
   "metadata": {},
   "outputs": [
    {
     "name": "stdout",
     "output_type": "stream",
     "text": [
      "R squared Error :  82.2268790545284\n"
     ]
    }
   ],
   "source": [
    "# R square error\n",
    "test_error_score = r2_score(test_data_pred, y_test)\n",
    "print(\"R squared Error : \", test_error_score*100)"
   ]
  },
  {
   "cell_type": "code",
   "execution_count": 26,
   "id": "af628edb-f8df-4882-8b76-6342b4d833d1",
   "metadata": {},
   "outputs": [
    {
     "data": {
      "image/png": "[encoded data removed]",
      "text/plain": [
       "<Figure size 640x480 with 1 Axes>"
      ]
     },
     "metadata": {},
     "output_type": "display_data"
    }
   ],
   "source": [
    "plt.scatter(test_data_pred, y_test)\n",
    "plt.xlabel(\"Acutal price \")\n",
    "plt.ylabel(\"Predicted\")\n",
    "plt.title(\"Actual prices VS Predicted prices\")\n",
    "plt.show()"
   ]
  },
  {
   "cell_type": "markdown",
   "id": "a20d218d-8c59-4ed3-8bfe-7f4bb0c50b60",
   "metadata": {},
   "source": [
    "# Save MOdel "
   ]
  },
  {
   "cell_type": "code",
   "execution_count": 27,
   "id": "109107b6-f45b-4df3-9b66-2de1f0caa00b",
   "metadata": {},
   "outputs": [
    {
     "data": {
      "text/plain": [
       "['Linear car price prediction.joblib']"
      ]
     },
     "execution_count": 27,
     "metadata": {},
     "output_type": "execute_result"
    }
   ],
   "source": [
    "import joblib\n",
    "filname = \"Linear car price prediction.joblib\"\n",
    "joblib.dump(lin_reg, filname)"
   ]
  },
  {
   "cell_type": "markdown",
   "id": "62e6d362-5d32-411b-aea1-cb0097a25d4b",
   "metadata": {},
   "source": [
    "# Lasso Regesssion"
   ]
  },
  {
   "cell_type": "code",
   "execution_count": null,
   "id": "272c4954-61cb-43b7-b251-90fdd9964469",
   "metadata": {},
   "outputs": [],
   "source": []
  },
  {
   "cell_type": "code",
   "execution_count": 28,
   "id": "dc9949af-0051-44c9-8587-772b744373d1",
   "metadata": {},
   "outputs": [],
   "source": [
    "la_reg = Lasso()"
   ]
  },
  {
   "cell_type": "code",
   "execution_count": 29,
   "id": "119d8d20-a68c-49bd-b4d2-8acfbaf2fa44",
   "metadata": {},
   "outputs": [
    {
     "data": {
      "text/html": [
       "<style>#sk-container-id-2 {color: black;}#sk-container-id-2 pre{padding: 0;}#sk-container-id-2 div.sk-toggleable {background-color: white;}#sk-container-id-2 label.sk-toggleable__label {cursor: pointer;display: block;width: 100%;margin-bottom: 0;padding: 0.3em;box-sizing: border-box;text-align: center;}#sk-container-id-2 label.sk-toggleable__label-arrow:before {content: \"▸\";float: left;margin-right: 0.25em;color: #696969;}#sk-container-id-2 label.sk-toggleable__label-arrow:hover:before {color: black;}#sk-container-id-2 div.sk-estimator:hover label.sk-toggleable__label-arrow:before {color: black;}#sk-container-id-2 div.sk-toggleable__content {max-height: 0;max-width: 0;overflow: hidden;text-align: left;background-color: #f0f8ff;}#sk-container-id-2 div.sk-toggleable__content pre {margin: 0.2em;color: black;border-radius: 0.25em;background-color: #f0f8ff;}#sk-container-id-2 input.sk-toggleable__control:checked~div.sk-toggleable__content {max-height: 200px;max-width: 100%;overflow: auto;}#sk-container-id-2 input.sk-toggleable__control:checked~label.sk-toggleable__label-arrow:before {content: \"▾\";}#sk-container-id-2 div.sk-estimator input.sk-toggleable__control:checked~label.sk-toggleable__label {background-color: #d4ebff;}#sk-container-id-2 div.sk-label input.sk-toggleable__control:checked~label.sk-toggleable__label {background-color: #d4ebff;}#sk-container-id-2 input.sk-hidden--visually {border: 0;clip: rect(1px 1px 1px 1px);clip: rect(1px, 1px, 1px, 1px);height: 1px;margin: -1px;overflow: hidden;padding: 0;position: absolute;width: 1px;}#sk-container-id-2 div.sk-estimator {font-family: monospace;background-color: #f0f8ff;border: 1px dotted black;border-radius: 0.25em;box-sizing: border-box;margin-bottom: 0.5em;}#sk-container-id-2 div.sk-estimator:hover {background-color: #d4ebff;}#sk-container-id-2 div.sk-parallel-item::after {content: \"\";width: 100%;border-bottom: 1px solid gray;flex-grow: 1;}#sk-container-id-2 div.sk-label:hover label.sk-toggleable__label {background-color: #d4ebff;}#sk-container-id-2 div.sk-serial::before {content: \"\";position: absolute;border-left: 1px solid gray;box-sizing: border-box;top: 0;bottom: 0;left: 50%;z-index: 0;}#sk-container-id-2 div.sk-serial {display: flex;flex-direction: column;align-items: center;background-color: white;padding-right: 0.2em;padding-left: 0.2em;position: relative;}#sk-container-id-2 div.sk-item {position: relative;z-index: 1;}#sk-container-id-2 div.sk-parallel {display: flex;align-items: stretch;justify-content: center;background-color: white;position: relative;}#sk-container-id-2 div.sk-item::before, #sk-container-id-2 div.sk-parallel-item::before {content: \"\";position: absolute;border-left: 1px solid gray;box-sizing: border-box;top: 0;bottom: 0;left: 50%;z-index: -1;}#sk-container-id-2 div.sk-parallel-item {display: flex;flex-direction: column;z-index: 1;position: relative;background-color: white;}#sk-container-id-2 div.sk-parallel-item:first-child::after {align-self: flex-end;width: 50%;}#sk-container-id-2 div.sk-parallel-item:last-child::after {align-self: flex-start;width: 50%;}#sk-container-id-2 div.sk-parallel-item:only-child::after {width: 0;}#sk-container-id-2 div.sk-dashed-wrapped {border: 1px dashed gray;margin: 0 0.4em 0.5em 0.4em;box-sizing: border-box;padding-bottom: 0.4em;background-color: white;}#sk-container-id-2 div.sk-label label {font-family: monospace;font-weight: bold;display: inline-block;line-height: 1.2em;}#sk-container-id-2 div.sk-label-container {text-align: center;}#sk-container-id-2 div.sk-container {/* jupyter's `normalize.less` sets `[hidden] { display: none; }` but bootstrap.min.css set `[hidden] { display: none !important; }` so we also need the `!important` here to be able to override the default hidden behavior on the sphinx rendered scikit-learn.org. See: https://github.com/scikit-learn/scikit-learn/issues/21755 */display: inline-block !important;position: relative;}#sk-container-id-2 div.sk-text-repr-fallback {display: none;}</style><div id=\"sk-container-id-2\" class=\"sk-top-container\"><div class=\"sk-text-repr-fallback\"><pre>Lasso()</pre><b>In a Jupyter environment, please rerun this cell to show the HTML representation or trust the notebook. <br />On GitHub, the HTML representation is unable to render, please try loading this page with nbviewer.org.</b></div><div class=\"sk-container\" hidden><div class=\"sk-item\"><div class=\"sk-estimator sk-toggleable\"><input class=\"sk-toggleable__control sk-hidden--visually\" id=\"sk-estimator-id-2\" type=\"checkbox\" checked><label for=\"sk-estimator-id-2\" class=\"sk-toggleable__label sk-toggleable__label-arrow\">Lasso</label><div class=\"sk-toggleable__content\"><pre>Lasso()</pre></div></div></div></div></div>"
      ],
      "text/plain": [
       "Lasso()"
      ]
     },
     "execution_count": 29,
     "metadata": {},
     "output_type": "execute_result"
    }
   ],
   "source": [
    "la_reg.fit(x_train, y_train)"
   ]
  },
  {
   "cell_type": "code",
   "execution_count": 30,
   "id": "c528b846-b93a-4e85-8e7f-5cb5c353378a",
   "metadata": {},
   "outputs": [
    {
     "name": "stdout",
     "output_type": "stream",
     "text": [
      "R square Eror :  81.24615110726525\n"
     ]
    }
   ],
   "source": [
    "# tarinig data prediction\n",
    "lasso_train_data_pred = la_reg.predict(x_train)\n",
    "lasso_train_data_accuracy = r2_score(train_data_pred, y_train)\n",
    "\n",
    "print(\"R square Eror : \", lasso_train_data_accuracy* 100)"
   ]
  },
  {
   "cell_type": "code",
   "execution_count": 31,
   "id": "297af219-3b74-4c22-9005-36843cb6462f",
   "metadata": {},
   "outputs": [
    {
     "data": {
      "image/png": "[encoded data removed]",
      "text/plain": [
       "<Figure size 640x480 with 1 Axes>"
      ]
     },
     "metadata": {},
     "output_type": "display_data"
    }
   ],
   "source": [
    "plt.scatter(lasso_train_data_pred, y_train)\n",
    "plt.xlabel(\"Acutal price \")\n",
    "plt.ylabel(\"Predicted\")\n",
    "plt.title(\"Actual prices VS Predicted prices\")\n",
    "plt.show()"
   ]
  },
  {
   "cell_type": "code",
   "execution_count": null,
   "id": "303a7bc2-399e-4900-aae8-91fa3f82dbc7",
   "metadata": {},
   "outputs": [],
   "source": []
  },
  {
   "cell_type": "code",
   "execution_count": 32,
   "id": "e21707dc-678d-4927-95e2-4c59333d5a5c",
   "metadata": {},
   "outputs": [
    {
     "name": "stdout",
     "output_type": "stream",
     "text": [
      "R square Eror :  81.9345430185049\n"
     ]
    }
   ],
   "source": [
    "#  testing data prediction\n",
    "lasso_test_data_pred = la_reg.predict(x_test)\n",
    "lasso_test_data_accuracy = r2_score(lasso_test_data_pred, y_test)\n",
    "print(\"R square Eror : \", lasso_test_data_accuracy* 100)"
   ]
  },
  {
   "cell_type": "code",
   "execution_count": 33,
   "id": "db9dc852-8d82-429f-94eb-8eec860ed6bb",
   "metadata": {},
   "outputs": [
    {
     "data": {
      "image/png": "[encoded data removed]",
      "text/plain": [
       "<Figure size 640x480 with 1 Axes>"
      ]
     },
     "metadata": {},
     "output_type": "display_data"
    }
   ],
   "source": [
    "plt.scatter(lasso_test_data_pred, y_test)\n",
    "plt.xlabel(\"Acutal price \")\n",
    "plt.ylabel(\"Predicted\")\n",
    "plt.title(\"Actual prices VS Predicted prices\")\n",
    "plt.show()"
   ]
  },
  {
   "cell_type": "code",
   "execution_count": 36,
   "id": "a398d166-63ab-41cb-b356-52a5a01e5ad8",
   "metadata": {},
   "outputs": [
    {
     "data": {
      "text/plain": [
       "['lasso car price predictio.joblib']"
      ]
     },
     "execution_count": 36,
     "metadata": {},
     "output_type": "execute_result"
    }
   ],
   "source": [
    "import joblib\n",
    "\n",
    "joblib.dump(la_reg, \"lasso car price predictio.joblib\")"
   ]
  },
  {
   "cell_type": "code",
   "execution_count": null,
   "id": "4ea9cc71-3419-4bb4-9c5f-dedc9d3ce6a5",
   "metadata": {},
   "outputs": [],
   "source": []
  }
 ],
 "metadata": {
  "kernelspec": {
   "display_name": "Python 3 (ipykernel)",
   "language": "python",
   "name": "python3"
  },
  "language_info": {
   "codemirror_mode": {
    "name": "ipython",
    "version": 3
   },
   "file_extension": ".py",
   "mimetype": "text/x-python",
   "name": "python",
   "nbconvert_exporter": "python",
   "pygments_lexer": "ipython3",
   "version": "3.8.10"
  },
  "widgets": {
   "application/vnd.jupyter.widget-state+json": {
    "state": {},
    "version_major": 2,
    "version_minor": 0
   }
  }
 },
 "nbformat": 4,
 "nbformat_minor": 5
}
